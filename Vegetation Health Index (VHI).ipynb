{
 "cells": [
  {
   "cell_type": "code",
   "execution_count": 1,
   "id": "8f4b917f",
   "metadata": {},
   "outputs": [],
   "source": [
    "#Librerías\n",
    "import ee #earthengine\n",
    "import geemap #Alternativa a GEE paquete\n",
    "import matplotlib.pyplot as plt #Generación de gráficos\n",
    "import pandas as pd\n",
    "import numpy as np\n",
    "import os"
   ]
  },
  {
   "cell_type": "code",
   "execution_count": 2,
   "id": "8ca5773a",
   "metadata": {},
   "outputs": [],
   "source": [
    "ee.Initialize()"
   ]
  },
  {
   "cell_type": "code",
   "execution_count": 3,
   "id": "26b95cc6",
   "metadata": {},
   "outputs": [],
   "source": [
    "Map = geemap.Map()"
   ]
  },
  {
   "cell_type": "code",
   "execution_count": 4,
   "id": "44a4db87",
   "metadata": {
    "scrolled": false
   },
   "outputs": [
    {
     "data": {
      "application/vnd.jupyter.widget-view+json": {
       "model_id": "4d2e18d6af064a29a5d70e68ef637688",
       "version_major": 2,
       "version_minor": 0
      },
      "text/plain": [
       "Map(center=[20, 0], controls=(WidgetControl(options=['position', 'transparent_bg'], widget=HBox(children=(Togg…"
      ]
     },
     "metadata": {},
     "output_type": "display_data"
    }
   ],
   "source": [
    "Map"
   ]
  },
  {
   "cell_type": "code",
   "execution_count": 5,
   "id": "69c85c61",
   "metadata": {},
   "outputs": [],
   "source": [
    "AOI = 'D:/DOCS/PATIA/Sph.AltoPatia/AltoPatia.shp'"
   ]
  },
  {
   "cell_type": "code",
   "execution_count": 6,
   "id": "5e240b9b",
   "metadata": {},
   "outputs": [],
   "source": [
    "AOI = geemap.shp_to_ee(AOI)"
   ]
  },
  {
   "cell_type": "code",
   "execution_count": 7,
   "id": "57d6d174",
   "metadata": {},
   "outputs": [],
   "source": [
    "#Map.addLayer(AOI, {}, 'AOI')"
   ]
  },
  {
   "cell_type": "markdown",
   "id": "f2ea7cf4",
   "metadata": {},
   "source": [
    "# **Vegetation Health Index (VHI)**"
   ]
  },
  {
   "cell_type": "markdown",
   "id": "d6381d9f",
   "metadata": {},
   "source": [
    "<p>The <a href=\"https://un-spider.org/advisory-support/recommended-practices/recommended-practice-agriculture-drought-monitoring/step-by-step\">VHI</a> is a combination of the constructed VCI and TCI and can be used effectively for drought assessments. It can be calculated using the following formula. </p><br>"
   ]
  },
  {
   "cell_type": "markdown",
   "id": "e779dcb5",
   "metadata": {},
   "source": [
    "$VHI = \\alpha * VCI + (1 - \\alpha) * TCI$"
   ]
  },
  {
   "cell_type": "markdown",
   "id": "31ac4ba9",
   "metadata": {},
   "source": [
    "<p>where $\\alpha$ is the weight to measure the contribution of the $VCI$ and $TCI$ for assessing the status of drought. Generally, $\\alpha$ is set as 0.5 because it is difficult to distinguish the contribution of the surface temperature and the $NDVI$ when measuring drought stress. </p><br>"
   ]
  },
  {
   "cell_type": "markdown",
   "id": "e9614909",
   "metadata": {},
   "source": [
    "# **<p style=\"background-color:Tomato;\">INGRESO DE DATOS</p>**"
   ]
  },
  {
   "cell_type": "code",
   "execution_count": 8,
   "id": "1f70502f",
   "metadata": {},
   "outputs": [],
   "source": [
    "fechaI = \"2001-01-01\" # yyyy-mm-dd --> Ingresar fecha inicial\n",
    "fechaF = \"2021-12-31\" # yyyy-mm-dd --> Ingresar fecha final"
   ]
  },
  {
   "cell_type": "code",
   "execution_count": 9,
   "id": "99bcec96",
   "metadata": {},
   "outputs": [
    {
     "data": {
      "text/plain": [
       "<ee.ee_list.List at 0x1763a514820>"
      ]
     },
     "execution_count": 9,
     "metadata": {},
     "output_type": "execute_result"
    }
   ],
   "source": [
    "Anios = ee.List.sequence(2001, 2021) # A partir de la fecha registrada en la celda anterior \n",
    "                              # incluir el rango de años correspondiente --> Año inicial, Año final + 1\n",
    "Anios"
   ]
  },
  {
   "cell_type": "code",
   "execution_count": 10,
   "id": "59723a24",
   "metadata": {},
   "outputs": [
    {
     "data": {
      "text/plain": [
       "<ee.ee_list.List at 0x1763a6b91f0>"
      ]
     },
     "execution_count": 10,
     "metadata": {},
     "output_type": "execute_result"
    }
   ],
   "source": [
    "Meses = ee.List.sequence(1,12)\n",
    "Meses"
   ]
  },
  {
   "cell_type": "code",
   "execution_count": 11,
   "id": "9916095f",
   "metadata": {},
   "outputs": [],
   "source": [
    "MOD11A2_006 = ee.ImageCollection('MODIS/006/MOD11A2').filterBounds(AOI).filterDate(fechaI,fechaF) # Para TCI\n",
    "MOD13Q1_006 = ee.ImageCollection('MODIS/006/MOD13Q1').filterBounds(AOI).filterDate(fechaI,fechaF) # Para VCI"
   ]
  },
  {
   "cell_type": "markdown",
   "id": "ddd1704a",
   "metadata": {},
   "source": [
    "# **<p style=\"background-color:Tomato;\">PROCESAMIENTO DE DATOS</p>**"
   ]
  },
  {
   "cell_type": "code",
   "execution_count": 12,
   "id": "91d3d717",
   "metadata": {},
   "outputs": [],
   "source": [
    "# Valor mínimo y máximo de temperaturas superficiales terrestres\n",
    "minLST = MOD11A2_006.select('LST_Day_1km').min()\n",
    "maxLST = MOD11A2_006.select('LST_Day_1km').max()\n",
    "\n",
    "# Valor mínimo y máximo de NDVIs\n",
    "minNDVI = MOD13Q1_006.select('NDVI').min()\n",
    "maxNDVI = MOD13Q1_006.select('NDVI').max()"
   ]
  },
  {
   "cell_type": "code",
   "execution_count": 13,
   "id": "c674b63e",
   "metadata": {},
   "outputs": [],
   "source": [
    "Lw = ee.List([])\n",
    "for i in range(2001,2022):\n",
    "    for j in range(1,13):\n",
    "        w = MOD11A2_006.select('LST_Day_1km').filter(ee.Filter.calendarRange(ee.Number(i), ee.Number(i), 'year')).filter(ee.Filter.calendarRange(ee.Number(j), ee.Number(j), 'month')).mean()\n",
    "        w = w.set('year', i)\n",
    "        w = w.set('month', j)\n",
    "        w = w.set('system:time_start', ee.Date.fromYMD(i, j, 1))\n",
    "        Lw = Lw.add(ee.Image(w))\n",
    "W = ee.ImageCollection.fromImages(Lw)"
   ]
  },
  {
   "cell_type": "code",
   "execution_count": 14,
   "id": "5d06d730",
   "metadata": {},
   "outputs": [],
   "source": [
    "Nw = ee.List([])\n",
    "for i in range(2001,2022):\n",
    "    for j in range(1,13):\n",
    "        w = MOD13Q1_006.select('NDVI').filter(ee.Filter.calendarRange(ee.Number(i), ee.Number(i), 'year')).filter(ee.Filter.calendarRange(ee.Number(j), ee.Number(j), 'month')).mean()\n",
    "        w = w.set('year', i)\n",
    "        w = w.set('month', j)\n",
    "        w = w.set('system:time_start', ee.Date.fromYMD(i, j, 1))\n",
    "        Nw = Nw.add(ee.Image(w))\n",
    "NDVIj = ee.ImageCollection.fromImages(Nw)"
   ]
  },
  {
   "cell_type": "code",
   "execution_count": 15,
   "id": "1e2b8d77",
   "metadata": {},
   "outputs": [],
   "source": [
    "def TCIf(imgCol):\n",
    "    TCI = (imgCol.subtract(minLST)).divide(maxLST.subtract(minLST)).clip(AOI)\n",
    "    return TCI"
   ]
  },
  {
   "cell_type": "code",
   "execution_count": 16,
   "id": "ab4e5cb0",
   "metadata": {},
   "outputs": [],
   "source": [
    "def VCIf(imgCol):\n",
    "    VCI = (imgCol.subtract(minNDVI)).divide(maxNDVI.subtract(minNDVI)).clip(AOI)\n",
    "    return VCI"
   ]
  },
  {
   "cell_type": "code",
   "execution_count": 17,
   "id": "125e362b",
   "metadata": {},
   "outputs": [],
   "source": [
    "TCI = W.map(TCIf)"
   ]
  },
  {
   "cell_type": "code",
   "execution_count": 18,
   "id": "9f29b8b7",
   "metadata": {},
   "outputs": [],
   "source": [
    "VCI = NDVIj.map(VCIf)"
   ]
  },
  {
   "cell_type": "code",
   "execution_count": 19,
   "id": "01935d62",
   "metadata": {},
   "outputs": [],
   "source": [
    "def AlphaVCIf(imgC1):\n",
    "    AlphaVCI = (imgC1.multiply(0.5))\n",
    "    return AlphaVCI"
   ]
  },
  {
   "cell_type": "code",
   "execution_count": 20,
   "id": "45a6905c",
   "metadata": {},
   "outputs": [],
   "source": [
    "def AlphaTCIf(imgC2):\n",
    "    AlphaTCI = (imgC2.multiply(0.5))\n",
    "    return AlphaTCI"
   ]
  },
  {
   "cell_type": "code",
   "execution_count": 21,
   "id": "733f8ce7",
   "metadata": {},
   "outputs": [],
   "source": [
    "AlphaVCI = VCI.map(AlphaVCIf)"
   ]
  },
  {
   "cell_type": "code",
   "execution_count": 22,
   "id": "8d435aab",
   "metadata": {},
   "outputs": [],
   "source": [
    "AlphaTCI = TCI.map(AlphaTCIf)"
   ]
  },
  {
   "cell_type": "code",
   "execution_count": 23,
   "id": "748d2bf6",
   "metadata": {},
   "outputs": [],
   "source": [
    "Vw = ee.List([])\n",
    "\n",
    "Alpha_VCI = AlphaVCI.toList(AlphaTCI.size())\n",
    "Alpha_TCI = AlphaTCI.toList(AlphaTCI.size())\n",
    "for i in range(252): # verificar con .getInfo() el valor de 'system:index': '###', para este caso son 251\n",
    "    v = ee.Image(Alpha_VCI.get(i)).add(ee.Image(Alpha_TCI.get(i)))\n",
    "    Vw = Vw.add(ee.Image(v))\n",
    "VHI = ee.ImageCollection.fromImages(Vw)"
   ]
  },
  {
   "cell_type": "code",
   "execution_count": 24,
   "id": "e93c1c23",
   "metadata": {},
   "outputs": [],
   "source": [
    "vis =  ['d7191c', 'fdae61', 'ffffc0', 'a6d96a', '1a9641']\n",
    "visParams = {'min': -1, 'max': 1, 'palette': vis}"
   ]
  },
  {
   "cell_type": "code",
   "execution_count": 25,
   "id": "63d784bf",
   "metadata": {},
   "outputs": [],
   "source": [
    "#Map.addLayer(TCI, visParams, 'TCI')"
   ]
  },
  {
   "cell_type": "code",
   "execution_count": 26,
   "id": "828fe80b",
   "metadata": {},
   "outputs": [],
   "source": [
    "#Map.addLayer(VCI, visParams, 'VCI')"
   ]
  },
  {
   "cell_type": "code",
   "execution_count": 27,
   "id": "4803ac2f",
   "metadata": {},
   "outputs": [],
   "source": [
    "#Map.addLayer(VHI, visParams, 'VHI')"
   ]
  },
  {
   "cell_type": "code",
   "execution_count": 28,
   "id": "65b68356",
   "metadata": {},
   "outputs": [],
   "source": [
    "#Criterios de clasificacion TCI\n",
    "def ClasificarImgTCI(ImgCol):\n",
    "    image02 = ee.Image(ImgCol.lt(0.1).And(ImgCol.gte(-1)))\n",
    "    image04 = ee.Image(((ImgCol.gte(0.1)).And(ImgCol.lt(0.2))).multiply(2))\n",
    "    image06 = ((ImgCol.gte(0.2)).And(ImgCol.lt(0.3))).multiply(3)\n",
    "    image08 = ((ImgCol.gte(0.3)).And(ImgCol.lt(0.4))).multiply(4)\n",
    "    image10 = (ImgCol.gte(0.4)).multiply(5)\n",
    "    Drought_Index = (image02.add(image04).add(image06).add(image08).add(image10))\n",
    "    Drought_Index = Drought_Index.float()\n",
    "    return Drought_Index"
   ]
  },
  {
   "cell_type": "code",
   "execution_count": 29,
   "id": "08b74dcc",
   "metadata": {},
   "outputs": [],
   "source": [
    "#Criterios de clasificacion VCI\n",
    "def ClasificarImgVCI(ImgCol):\n",
    "    image02 = ee.Image(ImgCol.lt(0.1).And(ImgCol.gte(-1)))\n",
    "    image04 = ee.Image(((ImgCol.gte(0.1)).And(ImgCol.lt(0.2))).multiply(2))\n",
    "    image06 = ((ImgCol.gte(0.2)).And(ImgCol.lt(0.3))).multiply(3)\n",
    "    image08 = ((ImgCol.gte(0.3)).And(ImgCol.lt(0.4))).multiply(4)\n",
    "    image10 = (ImgCol.gte(0.4)).multiply(5)\n",
    "    Drought_Index = (image02.add(image04).add(image06).add(image08).add(image10))\n",
    "    Drought_Index = Drought_Index.float()\n",
    "    return Drought_Index"
   ]
  },
  {
   "cell_type": "code",
   "execution_count": 30,
   "id": "1be5e31b",
   "metadata": {},
   "outputs": [],
   "source": [
    "#Criterios de clasificacion VHI\n",
    "\n",
    "def ClasificarImgVHI(ImgCol):\n",
    "    image02 = ee.Image(ImgCol.lt(0.1).And(ImgCol.gte(-1)))\n",
    "    image04 = ee.Image(((ImgCol.gte(0.1)).And(ImgCol.lt(0.2))).multiply(2))\n",
    "    image06 = ((ImgCol.gte(0.2)).And(ImgCol.lt(0.3))).multiply(3)\n",
    "    image08 = ((ImgCol.gte(0.3)).And(ImgCol.lt(0.4))).multiply(4)\n",
    "    image10 = (ImgCol.gte(0.4)).multiply(5)\n",
    "    Drought_Index = (image02.add(image04).add(image06).add(image08).add(image10))\n",
    "    Drought_Index = Drought_Index.float()\n",
    "    return Drought_Index"
   ]
  },
  {
   "cell_type": "code",
   "execution_count": 31,
   "id": "35bdd452",
   "metadata": {},
   "outputs": [],
   "source": [
    "IndiceSequiaTCI = VCI.map(ClasificarImgTCI)"
   ]
  },
  {
   "cell_type": "code",
   "execution_count": 32,
   "id": "74c55b0d",
   "metadata": {},
   "outputs": [],
   "source": [
    "IndiceSequiaVCI = VCI.map(ClasificarImgVCI)"
   ]
  },
  {
   "cell_type": "code",
   "execution_count": 33,
   "id": "dbaeff55",
   "metadata": {},
   "outputs": [],
   "source": [
    "IndiceSequiaVHI = VHI.map(ClasificarImgVHI)"
   ]
  },
  {
   "cell_type": "code",
   "execution_count": 34,
   "id": "003636bb",
   "metadata": {},
   "outputs": [],
   "source": [
    "vis2 =  ['d7191c', 'fdae61', 'ffffc0', 'a6d96a', '1a9641'] #Extreme (rojo),Severe (anaranjado), Moderate (amarillo), Mild (verde claro) and No Drought (verde oscuro)\n",
    "visParams2 = {'min': 1, 'max': 5, 'palette': vis2}"
   ]
  },
  {
   "cell_type": "code",
   "execution_count": 35,
   "id": "46340aa8",
   "metadata": {},
   "outputs": [],
   "source": [
    "#Map.addLayer(IndiceSequiaTCI, visParams2 , 'IndiceSequia TCI')"
   ]
  },
  {
   "cell_type": "code",
   "execution_count": 36,
   "id": "d92e11c1",
   "metadata": {},
   "outputs": [],
   "source": [
    "#Map.addLayer(IndiceSequiaVCI, visParams2 , 'IndiceSequia VCI')"
   ]
  },
  {
   "cell_type": "code",
   "execution_count": 37,
   "id": "ece5ede1",
   "metadata": {},
   "outputs": [],
   "source": [
    "#Map.addLayer(IndiceSequiaVHI, visParams2 , 'IndiceSequia VHI')#"
   ]
  },
  {
   "cell_type": "code",
   "execution_count": 38,
   "id": "2072de84",
   "metadata": {},
   "outputs": [],
   "source": [
    "#Map.set_plot_options(add_marker_cluster= True)"
   ]
  },
  {
   "cell_type": "code",
   "execution_count": 39,
   "id": "eec85dca",
   "metadata": {},
   "outputs": [],
   "source": [
    "# Indices de sequía\n",
    "\n",
    "# 'Extreme' = 1\n",
    "# 'Severe' = 2\n",
    "# 'Moderate' = 3\n",
    "# 'Mild' = 4\n",
    "# 'No Drought' = 5"
   ]
  },
  {
   "cell_type": "code",
   "execution_count": 40,
   "id": "94f79dfd",
   "metadata": {},
   "outputs": [],
   "source": [
    "Geometria = ee.Geometry.Rectangle([-77.9612271805933119,0.6744206529957637, -76.5544471458635485,2.5194416258749825])"
   ]
  },
  {
   "cell_type": "markdown",
   "id": "c77b05be",
   "metadata": {},
   "source": [
    "## PCA"
   ]
  },
  {
   "cell_type": "markdown",
   "id": "c0479cba",
   "metadata": {},
   "source": [
    "PCA transform is a rotational transform in which the new basis is orthonormal, but the axes are determined from statistics of the input image, rather than empirical data.  Specifically, the new basis is the eigenvectors of the image's variance-covariance matrix.  As a result, the PCs are uncorrelated.  To demonstrate, use the Landsat 8 image, converted to an array image:"
   ]
  },
  {
   "cell_type": "code",
   "execution_count": 41,
   "id": "77aca32a",
   "metadata": {},
   "outputs": [
    {
     "data": {
      "text/plain": [
       "{'type': 'Image',\n",
       " 'bands': [{'id': 'array',\n",
       "   'data_type': {'type': 'PixelType', 'precision': 'double', 'dimensions': 1},\n",
       "   'crs': 'EPSG:4326',\n",
       "   'crs_transform': [1, 0, 0, 0, 1, 0]}]}"
      ]
     },
     "execution_count": 41,
     "metadata": {},
     "output_type": "execute_result"
    }
   ],
   "source": [
    "VHIBands = VHI.select(\"NDVI\").toBands()\n",
    "VHIBands = VHIBands.toArray()\n",
    "VHIBands.getInfo()"
   ]
  },
  {
   "cell_type": "code",
   "execution_count": 42,
   "id": "38030d36",
   "metadata": {},
   "outputs": [],
   "source": [
    "covar = VHIBands.reduceRegion(**{'reducer': ee.Reducer.covariance(),'geometry':Geometria,'maxPixels': 1e24, 'scale': 1000, 'crs': VHI.first().projection()})"
   ]
  },
  {
   "cell_type": "code",
   "execution_count": 43,
   "id": "395b9fe2",
   "metadata": {},
   "outputs": [],
   "source": [
    "covarArray = ee.Array(covar.get('array'))"
   ]
  },
  {
   "cell_type": "code",
   "execution_count": 44,
   "id": "c0c21cf5",
   "metadata": {},
   "outputs": [],
   "source": [
    "eigens = covarArray.eigen()"
   ]
  },
  {
   "cell_type": "code",
   "execution_count": 45,
   "id": "61ef817e",
   "metadata": {},
   "outputs": [],
   "source": [
    "eigenVectors = eigens.slice(1, 1)"
   ]
  },
  {
   "cell_type": "code",
   "execution_count": 46,
   "id": "5959a618",
   "metadata": {},
   "outputs": [],
   "source": [
    "principalComponents = ee.Image(eigenVectors).matrixMultiply(VHIBands.toArray(1))"
   ]
  },
  {
   "cell_type": "code",
   "execution_count": 47,
   "id": "f0d5e8f6",
   "metadata": {},
   "outputs": [],
   "source": [
    "pcImage = principalComponents.arrayProject([0]).arrayFlatten([['pc1', 'pc2', 'pc3', 'pc4', 'pc5', 'pc6', 'pc7', 'pc8']])"
   ]
  },
  {
   "cell_type": "code",
   "execution_count": 48,
   "id": "8f0f520f",
   "metadata": {},
   "outputs": [],
   "source": [
    "Map.addLayer(pcImage.select('pc1'),{} , 'PCA')"
   ]
  },
  {
   "cell_type": "markdown",
   "id": "c9ead6e3",
   "metadata": {},
   "source": [
    "# **<p style=\"background-color:Tomato;\">Exportar primera imagén de cada modelo</p>**"
   ]
  },
  {
   "cell_type": "code",
   "execution_count": 49,
   "id": "1c22e1f4",
   "metadata": {},
   "outputs": [],
   "source": [
    "#VHI_expFirst = geemap.ee_export_image(IndiceSequiaVHI.first(), 'D:/DOCS/PATIA/IMGENES/VHI.tif',scale=1000, region=Geometria)"
   ]
  },
  {
   "cell_type": "code",
   "execution_count": 50,
   "id": "751f347c",
   "metadata": {},
   "outputs": [],
   "source": [
    "#VCI = geemap.ee_export_image(IndiceSequiaVCI.first(), 'D:/DOCS/PATIA/IMGENES/VCI.tif',scale=250, region=Geometria)"
   ]
  },
  {
   "cell_type": "code",
   "execution_count": 51,
   "id": "f943b181",
   "metadata": {},
   "outputs": [],
   "source": [
    "#TCI_expFirst = geemap.ee_export_image(IndiceSequiaVHI.first(), 'D:/DOCS/PATIA/IMGENES/TCI.tif',scale=1000, region=Geometria)"
   ]
  },
  {
   "cell_type": "markdown",
   "id": "0f88332e",
   "metadata": {},
   "source": [
    "# **<p style=\"background-color:Tomato;\">Exportar colección de imagenes de cada modelo</p>**"
   ]
  },
  {
   "cell_type": "code",
   "execution_count": 52,
   "id": "909985e8",
   "metadata": {},
   "outputs": [],
   "source": [
    "#VHI = geemap.ee_export_image_collection(IndiceSequiaVHI, 'D:/DOCS/PATIA/IMGENES/VHI',scale=1000, region=Geometria)"
   ]
  },
  {
   "cell_type": "code",
   "execution_count": 53,
   "id": "56bff52b",
   "metadata": {},
   "outputs": [],
   "source": [
    "#VCI = geemap.ee_export_image_collection(IndiceSequiaVCI, 'D:/DOCS/PATIA/IMGENES/VCI',scale=1000, region=Geometria)"
   ]
  },
  {
   "cell_type": "code",
   "execution_count": 54,
   "id": "61d3b384",
   "metadata": {},
   "outputs": [],
   "source": [
    "#TCI = geemap.ee_export_image_collection(IndiceSequiaTCI, 'D:/DOCS/PATIA/IMGENES/TCI',scale=1000, region=Geometria)"
   ]
  },
  {
   "cell_type": "code",
   "execution_count": 55,
   "id": "77146778",
   "metadata": {},
   "outputs": [],
   "source": [
    "#VHI_Raw = geemap.ee_export_image_collection(ee.ImageCollection(Vw), 'D:/DOCS/PATIA/IMGENES/VHI_Raw',scale=1000, region=Geometria)"
   ]
  },
  {
   "cell_type": "code",
   "execution_count": 56,
   "id": "e48e9670",
   "metadata": {},
   "outputs": [],
   "source": [
    "#VCI_Raw = geemap.ee_export_image_collection(ee.ImageCollection(Nw), 'D:/DOCS/PATIA/IMGENES/VCI_Raw',scale=1000, region=Geometria)"
   ]
  },
  {
   "cell_type": "code",
   "execution_count": 57,
   "id": "6bb88216",
   "metadata": {},
   "outputs": [],
   "source": [
    "#TCI_Raw = geemap.ee_export_image_collection(ee.ImageCollection(Lw), 'D:/DOCS/PATIA/IMGENES/TCI_Raw',scale=1000, region=Geometria)"
   ]
  }
 ],
 "metadata": {
  "kernelspec": {
   "display_name": "Python 3 (ipykernel)",
   "language": "python",
   "name": "python3"
  },
  "language_info": {
   "codemirror_mode": {
    "name": "ipython",
    "version": 3
   },
   "file_extension": ".py",
   "mimetype": "text/x-python",
   "name": "python",
   "nbconvert_exporter": "python",
   "pygments_lexer": "ipython3",
   "version": "3.9.12"
  }
 },
 "nbformat": 4,
 "nbformat_minor": 5
}
