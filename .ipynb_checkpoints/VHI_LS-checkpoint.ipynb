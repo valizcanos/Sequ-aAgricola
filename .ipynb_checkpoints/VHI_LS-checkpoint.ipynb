{
 "cells": [
  {
   "cell_type": "code",
   "execution_count": 1,
   "id": "b60b22a0",
   "metadata": {},
   "outputs": [],
   "source": [
    "#Librerías\n",
    "import ee #earthengine\n",
    "import geemap #Alternativa a GEE paquete\n",
    "import matplotlib.pyplot as plt #Generación de gráficos\n",
    "import pandas as pd\n",
    "import numpy as np\n",
    "import os"
   ]
  },
  {
   "cell_type": "code",
   "execution_count": 2,
   "id": "7bab8b1d",
   "metadata": {},
   "outputs": [],
   "source": [
    "# install git+https://github.com/cordmaur/GEES2Downloader.git@main\n",
    "\n",
    "#from geeS2downloader import GEES2Downloader"
   ]
  },
  {
   "cell_type": "code",
   "execution_count": 3,
   "id": "36bf4085",
   "metadata": {},
   "outputs": [],
   "source": [
    "#ee.Authenticate()"
   ]
  },
  {
   "cell_type": "code",
   "execution_count": 4,
   "id": "4ec915d9",
   "metadata": {},
   "outputs": [],
   "source": [
    "ee.Initialize()"
   ]
  },
  {
   "cell_type": "code",
   "execution_count": 5,
   "id": "154734d2",
   "metadata": {},
   "outputs": [],
   "source": [
    "Map = geemap.Map()"
   ]
  },
  {
   "cell_type": "code",
   "execution_count": 6,
   "id": "28b990bc",
   "metadata": {},
   "outputs": [],
   "source": [
    "AOI ='D:/DOCS/PATIA/Sph.AltoPatia/AltoPatia.shp'"
   ]
  },
  {
   "cell_type": "code",
   "execution_count": 7,
   "id": "0984eafa",
   "metadata": {},
   "outputs": [],
   "source": [
    "AOI = geemap.shp_to_ee(AOI)"
   ]
  },
  {
   "cell_type": "code",
   "execution_count": 8,
   "id": "38e7106d",
   "metadata": {},
   "outputs": [],
   "source": [
    "Map.center_object(AOI, 12)\n",
    "#Map.set_center(AOI, 12)"
   ]
  },
  {
   "cell_type": "code",
   "execution_count": 9,
   "id": "8aa03b66",
   "metadata": {
    "scrolled": false
   },
   "outputs": [
    {
     "data": {
      "application/vnd.jupyter.widget-view+json": {
       "model_id": "c297266e84df475cb4dd1a9ee812914b",
       "version_major": 2,
       "version_minor": 0
      },
      "text/plain": [
       "Map(center=[1.5930218187425416, -77.20824274207031], controls=(WidgetControl(options=['position', 'transparent…"
      ]
     },
     "metadata": {},
     "output_type": "display_data"
    }
   ],
   "source": [
    "Map"
   ]
  },
  {
   "cell_type": "code",
   "execution_count": 10,
   "id": "b26a0099",
   "metadata": {},
   "outputs": [],
   "source": [
    "LS4 = ee.ImageCollection(\"LANDSAT/LT04/C02/T1_L2\") #Landsat 4"
   ]
  },
  {
   "cell_type": "code",
   "execution_count": 11,
   "id": "51cb5701",
   "metadata": {},
   "outputs": [],
   "source": [
    "LS5 = ee.ImageCollection(\"LANDSAT/LT05/C02/T1_L2\") #Landsat 5"
   ]
  },
  {
   "cell_type": "code",
   "execution_count": 12,
   "id": "f1669455",
   "metadata": {},
   "outputs": [],
   "source": [
    "LS7 = ee.ImageCollection(\"LANDSAT/LE07/C02/T1_L2\") #Landsat 7"
   ]
  },
  {
   "cell_type": "code",
   "execution_count": 13,
   "id": "806f2dec",
   "metadata": {},
   "outputs": [],
   "source": [
    "LS8 = ee.ImageCollection(\"LANDSAT/LC08/C02/T1_L2\") #Landsat 8"
   ]
  },
  {
   "cell_type": "code",
   "execution_count": 14,
   "id": "4eaa0eaf",
   "metadata": {},
   "outputs": [],
   "source": [
    "MODIS = ee.ImageCollection(\"MODIS/061/MOD13A1\")"
   ]
  },
  {
   "cell_type": "code",
   "execution_count": 15,
   "id": "dfbd4675",
   "metadata": {},
   "outputs": [],
   "source": [
    "DEM = ee.Image(\"CGIAR/SRTM90_V4\") #90M"
   ]
  },
  {
   "cell_type": "code",
   "execution_count": 16,
   "id": "692f890f",
   "metadata": {},
   "outputs": [],
   "source": [
    "# Enmascarar Nubes"
   ]
  },
  {
   "cell_type": "code",
   "execution_count": 17,
   "id": "0a612eb0",
   "metadata": {},
   "outputs": [],
   "source": [
    "def maskL457sr(img): #Enmascara nubes de LS 4,5 y 7\n",
    "    cloudShadowBitMask = (1 << 3)\n",
    "    cloudsBitMask = (1 << 4)\n",
    "    qa = img.select('QA_PIXEL')\n",
    "    mask = qa.bitwiseAnd(cloudShadowBitMask).eq(0).And(qa.bitwiseAnd(cloudsBitMask).eq(0))\n",
    "    return img.updateMask(mask)"
   ]
  },
  {
   "cell_type": "code",
   "execution_count": 18,
   "id": "8036170b",
   "metadata": {},
   "outputs": [],
   "source": [
    "def maskL8sr(img):\n",
    "    cloudShadowBitMask = (1 << 3)\n",
    "    cloudsBitMask = (1 << 4)\n",
    "    qa = img.select('QA_PIXEL')\n",
    "    mask = qa.bitwiseAnd(cloudShadowBitMask).eq(0).And(qa.bitwiseAnd(cloudsBitMask).eq(0))\n",
    "    return img.updateMask(mask)"
   ]
  },
  {
   "cell_type": "code",
   "execution_count": 19,
   "id": "d5a975ab",
   "metadata": {},
   "outputs": [],
   "source": [
    "#Filtrar imagenes"
   ]
  },
  {
   "cell_type": "code",
   "execution_count": 20,
   "id": "44e62025",
   "metadata": {},
   "outputs": [],
   "source": [
    "LS5 = LS5.filterDate('1985-01-01', '2010-12-31').filterBounds(AOI).filter(ee.Filter.lt('CLOUD_COVER', 30)).map(maskL457sr)"
   ]
  },
  {
   "cell_type": "code",
   "execution_count": 21,
   "id": "8d8e282f",
   "metadata": {},
   "outputs": [],
   "source": [
    "LS7 = LS7.filterDate('2011-01-01', '2013-12-31').filterBounds(AOI).filter(ee.Filter.lt('CLOUD_COVER', 30)).map(maskL457sr)"
   ]
  },
  {
   "cell_type": "code",
   "execution_count": 22,
   "id": "e2e3329a",
   "metadata": {},
   "outputs": [],
   "source": [
    "LS8 = LS8.filterDate('2014-01-01', '2022-12-31').filterBounds(AOI).filter(ee.Filter.lt('CLOUD_COVER', 30)).map(maskL8sr)"
   ]
  },
  {
   "cell_type": "code",
   "execution_count": 23,
   "id": "dc1bd7d1",
   "metadata": {},
   "outputs": [],
   "source": [
    "# FRACTION OF VEGETATION COVER (FVC)"
   ]
  },
  {
   "cell_type": "code",
   "execution_count": 24,
   "id": "b90d5c93",
   "metadata": {},
   "outputs": [],
   "source": [
    "def toNDVI457(img):\n",
    "    ndvi = img.expression('((NIR - RED) / (NIR + RED))',\n",
    "    {'NIR': img.select('SR_B4'),\n",
    "    'RED': img.select('SR_B3')}).rename('NDVI').copyProperties(img, ['system:time_start'])\n",
    "    return img.addBands(ndvi)"
   ]
  },
  {
   "cell_type": "code",
   "execution_count": 25,
   "id": "290d8439",
   "metadata": {},
   "outputs": [],
   "source": [
    "def toNDVI8(img):\n",
    "    ndvi = img.expression('((NIR - RED) / (NIR + RED))',\n",
    "    {'NIR': img.select('SR_B5'),\n",
    "    'RED': img.select('SR_B4')}).rename('NDVI').copyProperties(img, ['system:time_start'])\n",
    "    return img.addBands(ndvi)"
   ]
  },
  {
   "cell_type": "code",
   "execution_count": 26,
   "id": "815998ad",
   "metadata": {},
   "outputs": [],
   "source": [
    "ndvi5 = LS5.map(toNDVI457)"
   ]
  },
  {
   "cell_type": "code",
   "execution_count": 27,
   "id": "c8b45064",
   "metadata": {},
   "outputs": [],
   "source": [
    "ndvi7 = LS7.map(toNDVI457)"
   ]
  },
  {
   "cell_type": "code",
   "execution_count": 28,
   "id": "c3b04d34",
   "metadata": {},
   "outputs": [],
   "source": [
    "ndvi8 = LS8.map(toNDVI8)"
   ]
  },
  {
   "cell_type": "code",
   "execution_count": 29,
   "id": "aa9f7da3",
   "metadata": {},
   "outputs": [],
   "source": [
    "def FVC4578(img):\n",
    "    min = ee.Number(img.select(\"NDVI\").reduceRegion(**{\n",
    "        'reducer': ee.Reducer.min(),\n",
    "        'geometry': AOI,\n",
    "        'scale': 30,\n",
    "        'maxPixels': 1e9\n",
    "    }).values().get(0))\n",
    "    \n",
    "    max = ee.Number(img.select(\"NDVI\").reduceRegion(**{\n",
    "        'reducer': ee.Reducer.max(),\n",
    "        'geometry': AOI,\n",
    "        'scale': 30,\n",
    "        'maxPixels': 1e9\n",
    "    }).values().get(0))\n",
    "    \n",
    "    fv =(img.select(\"NDVI\").subtract(min).divide(max.subtract(min))).pow(ee.Number(2)).rename('FV').copyProperties(img, ['system:time_start'])\n",
    "    \n",
    "    return img.addBands(fv)"
   ]
  },
  {
   "cell_type": "code",
   "execution_count": 30,
   "id": "93ae9de2",
   "metadata": {},
   "outputs": [],
   "source": [
    "fvc5 = ndvi5.map(FVC4578)"
   ]
  },
  {
   "cell_type": "code",
   "execution_count": 31,
   "id": "8c367364",
   "metadata": {},
   "outputs": [],
   "source": [
    "fvc7 = ndvi7.map(FVC4578)"
   ]
  },
  {
   "cell_type": "code",
   "execution_count": 32,
   "id": "3e21b22a",
   "metadata": {},
   "outputs": [],
   "source": [
    "fvc8 = ndvi8.map(FVC4578)"
   ]
  },
  {
   "cell_type": "code",
   "execution_count": 33,
   "id": "b3c3edfd",
   "metadata": {},
   "outputs": [],
   "source": [
    "# Surface Emissivity"
   ]
  },
  {
   "cell_type": "code",
   "execution_count": 34,
   "id": "a896e5d8",
   "metadata": {},
   "outputs": [],
   "source": [
    "a= ee.Number(0.004)"
   ]
  },
  {
   "cell_type": "code",
   "execution_count": 35,
   "id": "7d7ae7db",
   "metadata": {},
   "outputs": [],
   "source": [
    "b= ee.Number(0.986)"
   ]
  },
  {
   "cell_type": "code",
   "execution_count": 36,
   "id": "7b3ee9d1",
   "metadata": {},
   "outputs": [],
   "source": [
    "def em(img):\n",
    "    EM= img.select('FV').multiply(a).add(b).rename('EMM').copyProperties(img, ['system:time_start'])\n",
    "    return img.addBands(EM)"
   ]
  },
  {
   "cell_type": "code",
   "execution_count": 37,
   "id": "c06b5d29",
   "metadata": {},
   "outputs": [],
   "source": [
    "em5 = fvc5.map(em)"
   ]
  },
  {
   "cell_type": "code",
   "execution_count": 38,
   "id": "ca00d01f",
   "metadata": {},
   "outputs": [],
   "source": [
    "em7 = fvc7.map(em)"
   ]
  },
  {
   "cell_type": "code",
   "execution_count": 39,
   "id": "ccd2524b",
   "metadata": {},
   "outputs": [],
   "source": [
    "em8 = fvc8.map(em)"
   ]
  },
  {
   "cell_type": "code",
   "execution_count": 40,
   "id": "8270f8b7",
   "metadata": {},
   "outputs": [],
   "source": [
    "#LST"
   ]
  },
  {
   "cell_type": "code",
   "execution_count": 41,
   "id": "2c4e7862",
   "metadata": {},
   "outputs": [],
   "source": [
    "def Tband4(img):\n",
    "    ter = img.expression(\n",
    "    '(1284.30/(log((671.62/lambda)+1)))-273.15',{\n",
    "        'lambda':img.select('ST_B6').multiply(0.00341802)\n",
    "    }).rename('ETemp').copyProperties(img, ['system:time_start'])\n",
    "    return img.addBands(ter)"
   ]
  },
  {
   "cell_type": "code",
   "execution_count": 42,
   "id": "8928d882",
   "metadata": {},
   "outputs": [],
   "source": [
    "def Tband5(img):\n",
    "    ter = img.select('ST_B6').multiply(0.00341802).add(149).subtract(273.15)\n",
    "    return ter.copyProperties(img, ['system:time_start'])"
   ]
  },
  {
   "cell_type": "code",
   "execution_count": 43,
   "id": "5880a85a",
   "metadata": {},
   "outputs": [],
   "source": [
    "def Tband7(img):\n",
    "    ter = img.select('ST_B6').multiply(0.00341802).add(149).subtract(273.15)\n",
    "    return ter.copyProperties(img, ['system:time_start'])"
   ]
  },
  {
   "cell_type": "code",
   "execution_count": 44,
   "id": "d39d4ce0",
   "metadata": {},
   "outputs": [],
   "source": [
    "def Tband8(img):\n",
    "    ter = img.select('ST_B10').multiply(0.00341802).add(149).subtract(273.15)\n",
    "    return ter.copyProperties(img, ['system:time_start'])"
   ]
  },
  {
   "cell_type": "code",
   "execution_count": 45,
   "id": "1522e768",
   "metadata": {},
   "outputs": [],
   "source": [
    "thermal5= LS5.map(Tband5)"
   ]
  },
  {
   "cell_type": "code",
   "execution_count": 46,
   "id": "18b72184",
   "metadata": {},
   "outputs": [],
   "source": [
    "thermal7= LS7.map(Tband7)"
   ]
  },
  {
   "cell_type": "code",
   "execution_count": 47,
   "id": "88f9dfba",
   "metadata": {},
   "outputs": [],
   "source": [
    "thermal8= LS8.map(Tband8)"
   ]
  },
  {
   "cell_type": "code",
   "execution_count": 48,
   "id": "f584aef6",
   "metadata": {},
   "outputs": [],
   "source": [
    "def LST457(img):\n",
    "    lst = img.expression(\n",
    "    '(Tb/(1 + (0.00115* (Tb / 1.438))*log(Ep)))-273.15',{\n",
    "        'Tb': img.select('ST_B6').multiply(0.00341802).add(149),\n",
    "        'Ep': img.select('EMM')\n",
    "    }).rename('LST').copyProperties(img, ['system:time_start'])\n",
    "    return img.addBands(lst)"
   ]
  },
  {
   "cell_type": "code",
   "execution_count": 49,
   "id": "1ca8909b",
   "metadata": {},
   "outputs": [],
   "source": [
    "def LST8(img):\n",
    "    lst = img.expression(\n",
    "    '(Tb/(1 + (0.00115* (Tb / 1.438))*log(Ep)))-273.15',{\n",
    "        'Tb': img.select('ST_B10').multiply(0.00341802).add(149),\n",
    "        'Ep': img.select('EMM')\n",
    "    }).rename('LST').copyProperties(img, ['system:time_start'])\n",
    "    return img.addBands(lst)"
   ]
  },
  {
   "cell_type": "code",
   "execution_count": 50,
   "id": "72714e6b",
   "metadata": {},
   "outputs": [],
   "source": [
    "lst5 = em5.map(LST457)"
   ]
  },
  {
   "cell_type": "code",
   "execution_count": 51,
   "id": "595d188f",
   "metadata": {},
   "outputs": [],
   "source": [
    "lst7 = em7.map(LST457)"
   ]
  },
  {
   "cell_type": "code",
   "execution_count": 52,
   "id": "2a8e50d7",
   "metadata": {},
   "outputs": [],
   "source": [
    "lst8 = em8.map(LST8)"
   ]
  },
  {
   "cell_type": "code",
   "execution_count": 53,
   "id": "0dcb3e0a",
   "metadata": {},
   "outputs": [],
   "source": [
    "#MERGE THE COLLECTIONS"
   ]
  },
  {
   "cell_type": "code",
   "execution_count": 54,
   "id": "927fefed",
   "metadata": {},
   "outputs": [],
   "source": [
    "LST = lst5.merge(lst7).merge(lst8)"
   ]
  },
  {
   "cell_type": "code",
   "execution_count": 55,
   "id": "61b834b7",
   "metadata": {},
   "outputs": [],
   "source": [
    "# VHI"
   ]
  },
  {
   "cell_type": "code",
   "execution_count": 56,
   "id": "8990f352",
   "metadata": {},
   "outputs": [],
   "source": [
    "def tci(img):\n",
    "    min = ee.Number(img.select(\"LST\").reduceRegion(**{\n",
    "        'reducer': ee.Reducer.min(),\n",
    "        'geometry': AOI,\n",
    "        'scale': 30,\n",
    "        'maxPixels': 1e9\n",
    "    }).values().get(0))\n",
    "    \n",
    "    max = ee.Number(img.select(\"LST\").reduceRegion(**{\n",
    "        'reducer': ee.Reducer.max(),\n",
    "        'geometry': AOI,\n",
    "        'scale': 30,\n",
    "        'maxPixels': 1e9\n",
    "    }).values().get(0))\n",
    "    \n",
    "    TCI =(((img.select(\"LST\").multiply(-1).add(max)).divide(max.subtract(min))).multiply(100)).rename('TCI').copyProperties(img, ['system:time_start'])\n",
    "    \n",
    "    return img.addBands(TCI)"
   ]
  },
  {
   "cell_type": "code",
   "execution_count": 57,
   "id": "be73ec9a",
   "metadata": {},
   "outputs": [],
   "source": [
    "def vci(img):\n",
    "    min = ee.Number(img.select(\"NDVI\").reduceRegion(**{\n",
    "        'reducer': ee.Reducer.min(),\n",
    "        'geometry': AOI,\n",
    "        'scale': 30,\n",
    "        'maxPixels': 1e9\n",
    "    }).values().get(0))\n",
    "    \n",
    "    max = ee.Number(img.select(\"NDVI\").reduceRegion(**{\n",
    "        'reducer': ee.Reducer.max(),\n",
    "        'geometry': AOI,\n",
    "        'scale': 30,\n",
    "        'maxPixels': 1e9\n",
    "    }).values().get(0))\n",
    "    \n",
    "    VCI =(img.select(\"NDVI\").subtract(min).divide(max.subtract(min))).multiply(100).rename('VCI').copyProperties(img, ['system:time_start'])\n",
    "    \n",
    "    return img.addBands(VCI)"
   ]
  },
  {
   "cell_type": "code",
   "execution_count": 58,
   "id": "a7386465",
   "metadata": {},
   "outputs": [],
   "source": [
    "def vhi(img):\n",
    "    VHI = (img.select(\"VCI\").multiply(0.5)).add(img.select(\"TCI\").multiply(0.5)).rename('VHI').copyProperties(img, ['system:time_start'])\n",
    "    return img.addBands(VHI)"
   ]
  },
  {
   "cell_type": "code",
   "execution_count": 59,
   "id": "26902149",
   "metadata": {},
   "outputs": [],
   "source": [
    "TCI = LST.map(tci)"
   ]
  },
  {
   "cell_type": "code",
   "execution_count": 60,
   "id": "a4fb5143",
   "metadata": {},
   "outputs": [],
   "source": [
    "VCI = TCI.map(vci)"
   ]
  },
  {
   "cell_type": "code",
   "execution_count": 61,
   "id": "3b74fc73",
   "metadata": {},
   "outputs": [],
   "source": [
    "VHI = VCI.map(vhi)"
   ]
  },
  {
   "cell_type": "code",
   "execution_count": 62,
   "id": "f24f8f0d",
   "metadata": {},
   "outputs": [],
   "source": [
    "VisVHImean = {\"opacity\":1,\"bands\":[\"VHI\"],\"min\":29.756766392470833,\"max\":64.89604894746634,\"palette\":[\"bb0eff\",\"7024ff\",\"18a8ff\",\"26ffbb\",\"26ff4c\",\"b1ff20\",\"faff24\",\"ffcf16\",\"ff491e\"]}"
   ]
  },
  {
   "cell_type": "code",
   "execution_count": 63,
   "id": "a1ef7369",
   "metadata": {},
   "outputs": [],
   "source": [
    "Geometria = ee.Geometry.Rectangle([-77.9612271805933119,0.6744206529957637, -76.5544471458635485,2.5194416258749825])"
   ]
  },
  {
   "cell_type": "code",
   "execution_count": 64,
   "id": "b00737ff",
   "metadata": {},
   "outputs": [],
   "source": [
    "Map.addLayer(VHI.select(\"VHI\").mean().clip(Geometria),VisVHImean,\"VHI\")"
   ]
  },
  {
   "cell_type": "code",
   "execution_count": 65,
   "id": "234dbdb3",
   "metadata": {},
   "outputs": [],
   "source": [
    "#VHI.getInfo()"
   ]
  },
  {
   "cell_type": "code",
   "execution_count": 66,
   "id": "9cbca736",
   "metadata": {},
   "outputs": [],
   "source": [
    "#Escalar imagenes para reducir el numero de pixeles de descarga"
   ]
  },
  {
   "cell_type": "code",
   "execution_count": 73,
   "id": "e666b517",
   "metadata": {},
   "outputs": [],
   "source": [
    "def escalar(img):\n",
    "    Escalado = img.reduceResolution(**{\n",
    "        'reducer': ee.Reducer.max(),\n",
    "        'maxPixels': 1024\n",
    "    }).reproject(**{\n",
    "        'crs': MODIS.first().projection()\n",
    "    })\n",
    "    return Escalado"
   ]
  },
  {
   "cell_type": "code",
   "execution_count": 69,
   "id": "e67d6700",
   "metadata": {},
   "outputs": [],
   "source": [
    "DemScalado = DEM.select('elevation').reduceResolution(**{\n",
    "        'reducer': ee.Reducer.mean(),\n",
    "        'maxPixels': 1024\n",
    "    }).reproject(**{\n",
    "        'crs': MODIS.first().projection()\n",
    "    })"
   ]
  },
  {
   "cell_type": "code",
   "execution_count": 76,
   "id": "6dba1934",
   "metadata": {},
   "outputs": [],
   "source": [
    "VHIscalado = VHI.map(escalar)"
   ]
  },
  {
   "cell_type": "code",
   "execution_count": 77,
   "id": "1a03f7a6",
   "metadata": {},
   "outputs": [],
   "source": [
    "Map.addLayer(VHIscalado.select(\"VHI\").mean().clip(Geometria),VisVHImean,\"VHI escal\")"
   ]
  },
  {
   "cell_type": "code",
   "execution_count": null,
   "id": "428656f6",
   "metadata": {},
   "outputs": [],
   "source": [
    "#VHI_expFirst = geemap.ee_export_image(VHIscalado.select(\"VHI\").mean(), 'D:/DOCS/PATIA/IMGENES/VHI_LS.tif',scale=500, region=Geometria)"
   ]
  },
  {
   "cell_type": "code",
   "execution_count": null,
   "id": "a8bc8bfa",
   "metadata": {},
   "outputs": [],
   "source": [
    "#DEM_expFirst = geemap.ee_export_image(DemScalado.select(\"elevation\"), 'D:/DOCS/PATIA/IMGENES/DEM.tif',scale=500, region=Geometria)"
   ]
  },
  {
   "cell_type": "code",
   "execution_count": 78,
   "id": "d75f51e8",
   "metadata": {},
   "outputs": [
    {
     "name": "stdout",
     "output_type": "stream",
     "text": [
      "Total number of images: 85\n",
      "\n",
      "Exporting 1/85: 1_1_LT05_009058_19870114.tif\n",
      "Generating URL ...\n",
      "Downloading data from https://earthengine.googleapis.com/v1alpha/projects/earthengine-legacy/thumbnails/573d1b32af582019f7de2fb1d8fcba38-698f22b13e96fe9385dca94600589d5f:getPixels\n",
      "Please wait ...\n",
      "Data downloaded to D:\\DOCS\\PATIA\\IMGENES\\VHI_LS\\1_1_LT05_009058_19870114.tif\n",
      "\n",
      "\n",
      "Exporting 2/85: 1_1_LT05_009058_19911211.tif\n",
      "Generating URL ...\n",
      "Downloading data from https://earthengine.googleapis.com/v1alpha/projects/earthengine-legacy/thumbnails/79dac0c03e4f474973fc48750b34aefa-13c3e11f0cfe74db28677ba6f1510a04:getPixels\n",
      "Please wait ...\n",
      "Data downloaded to D:\\DOCS\\PATIA\\IMGENES\\VHI_LS\\1_1_LT05_009058_19911211.tif\n",
      "\n",
      "\n",
      "Exporting 3/85: 1_1_LT05_009058_19990710.tif\n",
      "Generating URL ...\n",
      "Downloading data from https://earthengine.googleapis.com/v1alpha/projects/earthengine-legacy/thumbnails/7ee7a5eb367d8010bdd87ca31934856d-a01baa34d3abb6c4e810c3e5a2787017:getPixels\n",
      "Please wait ...\n",
      "Data downloaded to D:\\DOCS\\PATIA\\IMGENES\\VHI_LS\\1_1_LT05_009058_19990710.tif\n",
      "\n",
      "\n",
      "Exporting 4/85: 1_1_LT05_009059_19871013.tif\n",
      "Generating URL ...\n",
      "Downloading data from https://earthengine.googleapis.com/v1alpha/projects/earthengine-legacy/thumbnails/13fbe5e5c4cb2874f54ab12ba77d3c43-01c9ec76d859d113ebd56b1307f6e7d3:getPixels\n",
      "Please wait ...\n",
      "Data downloaded to D:\\DOCS\\PATIA\\IMGENES\\VHI_LS\\1_1_LT05_009059_19871013.tif\n",
      "\n",
      "\n",
      "Exporting 5/85: 1_1_LT05_009059_19990624.tif\n",
      "Generating URL ...\n",
      "Downloading data from https://earthengine.googleapis.com/v1alpha/projects/earthengine-legacy/thumbnails/fdbf828d844872c1ec511259ab313001-1e7eb289755e22c6a81d1c16da754d96:getPixels\n",
      "Please wait ...\n",
      "Data downloaded to D:\\DOCS\\PATIA\\IMGENES\\VHI_LS\\1_1_LT05_009059_19990624.tif\n",
      "\n",
      "\n",
      "Exporting 6/85: 1_1_LT05_009059_19990710.tif\n",
      "Generating URL ...\n",
      "Downloading data from https://earthengine.googleapis.com/v1alpha/projects/earthengine-legacy/thumbnails/7e5b3deed78be1d6a2f376e00b1beb27-4e391fc00874e19ca491d2fe134e5f05:getPixels\n",
      "Please wait ...\n",
      "Data downloaded to D:\\DOCS\\PATIA\\IMGENES\\VHI_LS\\1_1_LT05_009059_19990710.tif\n",
      "\n",
      "\n",
      "Exporting 7/85: 1_1_LT05_009060_19860823.tif\n",
      "Generating URL ...\n",
      "Downloading data from https://earthengine.googleapis.com/v1alpha/projects/earthengine-legacy/thumbnails/2be10e25a7d2140467ae57f9d1a3c346-0e447ceef78c3b0ff36069b65ccfa6ab:getPixels\n",
      "Please wait ...\n",
      "Data downloaded to D:\\DOCS\\PATIA\\IMGENES\\VHI_LS\\1_1_LT05_009060_19860823.tif\n",
      "\n",
      "\n",
      "Exporting 8/85: 1_1_LT05_009060_19871013.tif\n",
      "Generating URL ...\n",
      "Downloading data from https://earthengine.googleapis.com/v1alpha/projects/earthengine-legacy/thumbnails/8485771b12a73a97aa3f58106c9ea0fc-9d4abcef6886ed9d4f0f2c4e2bca61e0:getPixels\n",
      "Please wait ...\n",
      "Data downloaded to D:\\DOCS\\PATIA\\IMGENES\\VHI_LS\\1_1_LT05_009060_19871013.tif\n",
      "\n",
      "\n",
      "Exporting 9/85: 1_1_LT05_009060_19900428.tif\n",
      "Generating URL ...\n",
      "Downloading data from https://earthengine.googleapis.com/v1alpha/projects/earthengine-legacy/thumbnails/1a73d56845e7961e6d9081489b6c35c1-a60e351999576da3d9ebe6d364c791d0:getPixels\n",
      "Please wait ...\n",
      "Data downloaded to D:\\DOCS\\PATIA\\IMGENES\\VHI_LS\\1_1_LT05_009060_19900428.tif\n",
      "\n",
      "\n",
      "Exporting 10/85: 1_1_LT05_009060_19960903.tif\n",
      "Generating URL ...\n",
      "Downloading data from https://earthengine.googleapis.com/v1alpha/projects/earthengine-legacy/thumbnails/16eb9045a65e42062040ae557b3f850e-fd36f17aec13ead6509bb4994bfa6689:getPixels\n",
      "Please wait ...\n",
      "Data downloaded to D:\\DOCS\\PATIA\\IMGENES\\VHI_LS\\1_1_LT05_009060_19960903.tif\n",
      "\n",
      "\n",
      "Exporting 11/85: 1_1_LT05_009060_19961021.tif\n",
      "Generating URL ...\n",
      "Downloading data from https://earthengine.googleapis.com/v1alpha/projects/earthengine-legacy/thumbnails/507b5b8755a669b72e008e557bb03564-c1d4e45c0d0f2fed455fec55a393cf5d:getPixels\n",
      "Please wait ...\n",
      "Data downloaded to D:\\DOCS\\PATIA\\IMGENES\\VHI_LS\\1_1_LT05_009060_19961021.tif\n",
      "\n",
      "\n",
      "Exporting 12/85: 1_1_LT05_009060_19970906.tif\n",
      "Generating URL ...\n",
      "Downloading data from https://earthengine.googleapis.com/v1alpha/projects/earthengine-legacy/thumbnails/4a8bac1800d29999845a0e001055b306-5f6394ad1d95a99eb54e31c9e2c23779:getPixels\n",
      "Please wait ...\n",
      "Data downloaded to D:\\DOCS\\PATIA\\IMGENES\\VHI_LS\\1_1_LT05_009060_19970906.tif\n",
      "\n",
      "\n",
      "Exporting 13/85: 1_1_LT05_009060_19990624.tif\n",
      "Generating URL ...\n",
      "Downloading data from https://earthengine.googleapis.com/v1alpha/projects/earthengine-legacy/thumbnails/9beb4df5a493cd7ebbc2220b06e9f698-4880309579a9736939bd40c8627d0e75:getPixels\n",
      "Please wait ...\n",
      "Data downloaded to D:\\DOCS\\PATIA\\IMGENES\\VHI_LS\\1_1_LT05_009060_19990624.tif\n",
      "\n",
      "\n",
      "Exporting 14/85: 1_1_LT05_009060_19990710.tif\n",
      "Generating URL ...\n",
      "Downloading data from https://earthengine.googleapis.com/v1alpha/projects/earthengine-legacy/thumbnails/93cb668976e61518e762e84aa368419d-1cc1970f1426cda3cef96ad009d9376c:getPixels\n",
      "Please wait ...\n",
      "Data downloaded to D:\\DOCS\\PATIA\\IMGENES\\VHI_LS\\1_1_LT05_009060_19990710.tif\n",
      "\n",
      "\n",
      "Exporting 15/85: 1_1_LT05_010058_19860219.tif\n",
      "Generating URL ...\n",
      "Downloading data from https://earthengine.googleapis.com/v1alpha/projects/earthengine-legacy/thumbnails/c320cfdc04d996af574374bf516f13b1-209d92e67a88b612cb92f070e5a902ad:getPixels\n",
      "Please wait ...\n",
      "Data downloaded to D:\\DOCS\\PATIA\\IMGENES\\VHI_LS\\1_1_LT05_010058_19860219.tif\n",
      "\n",
      "\n",
      "Exporting 16/85: 1_1_LT05_010058_19860424.tif\n",
      "Generating URL ...\n",
      "Downloading data from https://earthengine.googleapis.com/v1alpha/projects/earthengine-legacy/thumbnails/9d9ebb7cddd85bc4a9b4c5f5492ede3f-910e05548747ba6b3b4f91d887192263:getPixels\n",
      "Please wait ...\n",
      "Data downloaded to D:\\DOCS\\PATIA\\IMGENES\\VHI_LS\\1_1_LT05_010058_19860424.tif\n",
      "\n",
      "\n",
      "Exporting 17/85: 1_1_LT05_010058_19861102.tif\n",
      "Generating URL ...\n",
      "Downloading data from https://earthengine.googleapis.com/v1alpha/projects/earthengine-legacy/thumbnails/5a9c9f2376f09ad4c37e7109f34b0179-067da6877116aecbe10a1c865bbf7f62:getPixels\n",
      "Please wait ...\n",
      "Data downloaded to D:\\DOCS\\PATIA\\IMGENES\\VHI_LS\\1_1_LT05_010058_19861102.tif\n",
      "\n",
      "\n",
      "Exporting 18/85: 1_1_LT05_010058_19891110.tif\n",
      "Generating URL ...\n",
      "Downloading data from https://earthengine.googleapis.com/v1alpha/projects/earthengine-legacy/thumbnails/50e11c1e4196269944baebaed4dd1804-4a23dbb4904528ce0af72563336711f1:getPixels\n",
      "Please wait ...\n",
      "Data downloaded to D:\\DOCS\\PATIA\\IMGENES\\VHI_LS\\1_1_LT05_010058_19891110.tif\n",
      "\n",
      "\n",
      "Exporting 19/85: 1_1_LT05_010058_19911116.tif\n",
      "Generating URL ...\n",
      "Downloading data from https://earthengine.googleapis.com/v1alpha/projects/earthengine-legacy/thumbnails/483f0da845b68d5a9cf620478931ec41-3524aafe67ec5c78f189a20605e073f5:getPixels\n",
      "Please wait ...\n",
      "Data downloaded to D:\\DOCS\\PATIA\\IMGENES\\VHI_LS\\1_1_LT05_010058_19911116.tif\n",
      "\n",
      "\n",
      "Exporting 20/85: 1_1_LT05_010058_19911218.tif\n",
      "Generating URL ...\n",
      "Downloading data from https://earthengine.googleapis.com/v1alpha/projects/earthengine-legacy/thumbnails/f50bddb14db551e0bc8eb4921078d9f3-3ba8943c8636c6505f497e8e25aad2e4:getPixels\n",
      "Please wait ...\n",
      "Data downloaded to D:\\DOCS\\PATIA\\IMGENES\\VHI_LS\\1_1_LT05_010058_19911218.tif\n",
      "\n",
      "\n",
      "Exporting 21/85: 1_1_LT05_010058_19970828.tif\n",
      "Generating URL ...\n",
      "Downloading data from https://earthengine.googleapis.com/v1alpha/projects/earthengine-legacy/thumbnails/7888413a1e81f3e9621b70a2e1af7fbd-27d1eea74da94de72a0ff1c71167998f:getPixels\n",
      "Please wait ...\n",
      "Data downloaded to D:\\DOCS\\PATIA\\IMGENES\\VHI_LS\\1_1_LT05_010058_19970828.tif\n",
      "\n",
      "\n",
      "Exporting 22/85: 1_1_LT05_010058_19970929.tif\n",
      "Generating URL ...\n",
      "Downloading data from https://earthengine.googleapis.com/v1alpha/projects/earthengine-legacy/thumbnails/46e88d1113d7b5fe84b1bfb926c5d698-92effab8416d7c7b0452ef26df93e0ef:getPixels\n",
      "Please wait ...\n",
      "Data downloaded to D:\\DOCS\\PATIA\\IMGENES\\VHI_LS\\1_1_LT05_010058_19970929.tif\n",
      "\n",
      "\n",
      "Exporting 23/85: 1_1_LT05_010058_19980103.tif\n",
      "Generating URL ...\n",
      "Downloading data from https://earthengine.googleapis.com/v1alpha/projects/earthengine-legacy/thumbnails/ef5ec01a60918ec569a161e25190e7f8-6a99f910c6a641e7653e73f9a00e1f90:getPixels\n",
      "Please wait ...\n",
      "Data downloaded to D:\\DOCS\\PATIA\\IMGENES\\VHI_LS\\1_1_LT05_010058_19980103.tif\n",
      "\n",
      "\n",
      "Exporting 24/85: 1_1_LT05_010058_19980204.tif\n",
      "Generating URL ...\n",
      "Downloading data from https://earthengine.googleapis.com/v1alpha/projects/earthengine-legacy/thumbnails/c40632a3e10dfb967cc986828696cdc0-342c0dc4c14e81a302a8c92d4ec46a34:getPixels\n",
      "Please wait ...\n",
      "Data downloaded to D:\\DOCS\\PATIA\\IMGENES\\VHI_LS\\1_1_LT05_010058_19980204.tif\n",
      "\n",
      "\n",
      "Exporting 25/85: 1_1_LT05_010058_19981018.tif\n",
      "Generating URL ...\n"
     ]
    },
    {
     "name": "stdout",
     "output_type": "stream",
     "text": [
      "Downloading data from https://earthengine.googleapis.com/v1alpha/projects/earthengine-legacy/thumbnails/949b59285c734d863585e777221b12fa-660711255832cb68266146d5bbd5c04e:getPixels\n",
      "Please wait ...\n",
      "Data downloaded to D:\\DOCS\\PATIA\\IMGENES\\VHI_LS\\1_1_LT05_010058_19981018.tif\n",
      "\n",
      "\n",
      "Exporting 26/85: 1_1_LT05_010059_19860219.tif\n",
      "Generating URL ...\n",
      "Downloading data from https://earthengine.googleapis.com/v1alpha/projects/earthengine-legacy/thumbnails/6ae2ffabb7a7c77434f0ac1d17c0d045-5f681d83e923f8cd0dc9dd5db81fb1fb:getPixels\n",
      "Please wait ...\n",
      "Data downloaded to D:\\DOCS\\PATIA\\IMGENES\\VHI_LS\\1_1_LT05_010059_19860219.tif\n",
      "\n",
      "\n",
      "Exporting 27/85: 1_1_LT05_010059_19861102.tif\n",
      "Generating URL ...\n",
      "Downloading data from https://earthengine.googleapis.com/v1alpha/projects/earthengine-legacy/thumbnails/4c706d373d5a048372d7f74fd5f83a92-c6d0e4e0441310970518634f5182da20:getPixels\n",
      "Please wait ...\n",
      "Data downloaded to D:\\DOCS\\PATIA\\IMGENES\\VHI_LS\\1_1_LT05_010059_19861102.tif\n",
      "\n",
      "\n",
      "Exporting 28/85: 1_1_LT05_010059_19960622.tif\n",
      "Generating URL ...\n",
      "Downloading data from https://earthengine.googleapis.com/v1alpha/projects/earthengine-legacy/thumbnails/bc1abc69e1d1ec6316a445692076a9c1-7663cb159de702435daa0aaea54feb0a:getPixels\n",
      "Please wait ...\n",
      "Data downloaded to D:\\DOCS\\PATIA\\IMGENES\\VHI_LS\\1_1_LT05_010059_19960622.tif\n",
      "\n",
      "\n",
      "Exporting 29/85: 1_1_LT05_010059_19970929.tif\n",
      "Generating URL ...\n",
      "Downloading data from https://earthengine.googleapis.com/v1alpha/projects/earthengine-legacy/thumbnails/bacc1790017d9e5c2dbf94d9ef40a8f2-416237257233212e47ea76b31cd90bce:getPixels\n",
      "Please wait ...\n",
      "Data downloaded to D:\\DOCS\\PATIA\\IMGENES\\VHI_LS\\1_1_LT05_010059_19970929.tif\n",
      "\n",
      "\n",
      "Exporting 30/85: 1_1_LT05_010059_19980204.tif\n",
      "Generating URL ...\n",
      "Downloading data from https://earthengine.googleapis.com/v1alpha/projects/earthengine-legacy/thumbnails/dc69a25eab5cea1b8a50dc8e73e6a3ea-ee14c7aaf90b47536de39713293b4926:getPixels\n",
      "Please wait ...\n",
      "Data downloaded to D:\\DOCS\\PATIA\\IMGENES\\VHI_LS\\1_1_LT05_010059_19980204.tif\n",
      "\n",
      "\n",
      "Exporting 31/85: 1_1_LT05_010060_19860323.tif\n",
      "Generating URL ...\n",
      "Downloading data from https://earthengine.googleapis.com/v1alpha/projects/earthengine-legacy/thumbnails/5f0d074d2cb2082042be07bfd1c70a30-b66f866f6e227fce17866f8cec676ca6:getPixels\n",
      "Please wait ...\n",
      "Data downloaded to D:\\DOCS\\PATIA\\IMGENES\\VHI_LS\\1_1_LT05_010060_19860323.tif\n",
      "\n",
      "\n",
      "Exporting 32/85: 1_1_LT05_010060_19870326.tif\n",
      "Generating URL ...\n",
      "Downloading data from https://earthengine.googleapis.com/v1alpha/projects/earthengine-legacy/thumbnails/ff8030e22fe11ca8e47dedf1eca0e186-c037ee756a7c211d2b12715c7c8e28af:getPixels\n",
      "Please wait ...\n",
      "Data downloaded to D:\\DOCS\\PATIA\\IMGENES\\VHI_LS\\1_1_LT05_010060_19870326.tif\n",
      "\n",
      "\n",
      "Exporting 33/85: 1_1_LT05_010060_19891110.tif\n",
      "Generating URL ...\n",
      "Downloading data from https://earthengine.googleapis.com/v1alpha/projects/earthengine-legacy/thumbnails/1a368c7a6823f406f579981022303f35-df59abfd4cc68ea27d91473291fde5bc:getPixels\n",
      "Please wait ...\n",
      "Data downloaded to D:\\DOCS\\PATIA\\IMGENES\\VHI_LS\\1_1_LT05_010060_19891110.tif\n",
      "\n",
      "\n",
      "Exporting 34/85: 1_1_LT05_010060_19911218.tif\n",
      "Generating URL ...\n",
      "Downloading data from https://earthengine.googleapis.com/v1alpha/projects/earthengine-legacy/thumbnails/36e3931c27877b1113b622b3edbf20b2-64447065a01cf7ac1780c2636883c3c7:getPixels\n",
      "Please wait ...\n",
      "Data downloaded to D:\\DOCS\\PATIA\\IMGENES\\VHI_LS\\1_1_LT05_010060_19911218.tif\n",
      "\n",
      "\n",
      "Exporting 35/85: 1_1_LT05_010060_19960708.tif\n",
      "Generating URL ...\n",
      "Downloading data from https://earthengine.googleapis.com/v1alpha/projects/earthengine-legacy/thumbnails/1ed075dfc14d954fc59dbf28227cafe7-24a03a28c9656c9a613dcb3dab7ae40d:getPixels\n",
      "Please wait ...\n",
      "Data downloaded to D:\\DOCS\\PATIA\\IMGENES\\VHI_LS\\1_1_LT05_010060_19960708.tif\n",
      "\n",
      "\n",
      "Exporting 36/85: 1_1_LT05_010060_19960724.tif\n",
      "Generating URL ...\n",
      "Downloading data from https://earthengine.googleapis.com/v1alpha/projects/earthengine-legacy/thumbnails/5f6ea1b53b11315524408db6f8c861f2-7243779a73fc45689308af706378d703:getPixels\n",
      "Please wait ...\n",
      "Data downloaded to D:\\DOCS\\PATIA\\IMGENES\\VHI_LS\\1_1_LT05_010060_19960724.tif\n",
      "\n",
      "\n",
      "Exporting 37/85: 1_1_LT05_010060_19961012.tif\n",
      "Generating URL ...\n",
      "Downloading data from https://earthengine.googleapis.com/v1alpha/projects/earthengine-legacy/thumbnails/ef6243c84197c94f2d0ad961e17779ad-b5716501073bd965365d434e1a28478d:getPixels\n",
      "Please wait ...\n",
      "Data downloaded to D:\\DOCS\\PATIA\\IMGENES\\VHI_LS\\1_1_LT05_010060_19961012.tif\n",
      "\n",
      "\n",
      "Exporting 38/85: 1_1_LT05_010060_19980714.tif\n",
      "Generating URL ...\n",
      "Downloading data from https://earthengine.googleapis.com/v1alpha/projects/earthengine-legacy/thumbnails/fff62cf3e095cc8d2fb909ffbcdbf4a1-19324fd11afdef197cdf5e738ba260a9:getPixels\n",
      "Please wait ...\n",
      "Data downloaded to D:\\DOCS\\PATIA\\IMGENES\\VHI_LS\\1_1_LT05_010060_19980714.tif\n",
      "\n",
      "\n",
      "Exporting 39/85: 1_1_LT05_010060_19981221.tif\n",
      "Generating URL ...\n",
      "Downloading data from https://earthengine.googleapis.com/v1alpha/projects/earthengine-legacy/thumbnails/c0a8ced87512fe54aab9b64f71f8de4e-b553f82f8b62cddff13fc08c084b3668:getPixels\n",
      "Please wait ...\n",
      "Data downloaded to D:\\DOCS\\PATIA\\IMGENES\\VHI_LS\\1_1_LT05_010060_19981221.tif\n",
      "\n",
      "\n",
      "Exporting 40/85: 1_1_LT05_010060_19990818.tif\n",
      "Generating URL ...\n",
      "Downloading data from https://earthengine.googleapis.com/v1alpha/projects/earthengine-legacy/thumbnails/53e8989b0323a7f5359a602a317ccde9-7f79bae9e880335c9fdefa5d020ee864:getPixels\n",
      "Please wait ...\n",
      "Data downloaded to D:\\DOCS\\PATIA\\IMGENES\\VHI_LS\\1_1_LT05_010060_19990818.tif\n",
      "\n",
      "\n",
      "Exporting 41/85: 1_1_LT05_010060_20000719.tif\n",
      "Generating URL ...\n",
      "Downloading data from https://earthengine.googleapis.com/v1alpha/projects/earthengine-legacy/thumbnails/ea451b086eb405edba2d888c226b2dbb-f8f49b6033561667c8249ae6711c5edf:getPixels\n",
      "Please wait ...\n",
      "Data downloaded to D:\\DOCS\\PATIA\\IMGENES\\VHI_LS\\1_1_LT05_010060_20000719.tif\n",
      "\n",
      "\n",
      "Exporting 42/85: 1_2_LE07_009058_20110124.tif\n",
      "Generating URL ...\n",
      "Downloading data from https://earthengine.googleapis.com/v1alpha/projects/earthengine-legacy/thumbnails/0c567c2edcbe51efec78d0e9569c5769-0d1f0f8490e4977da17e634238961195:getPixels\n",
      "Please wait ...\n",
      "Data downloaded to D:\\DOCS\\PATIA\\IMGENES\\VHI_LS\\1_2_LE07_009058_20110124.tif\n",
      "\n",
      "\n",
      "Exporting 43/85: 1_2_LE07_009058_20120619.tif\n",
      "Generating URL ...\n",
      "Downloading data from https://earthengine.googleapis.com/v1alpha/projects/earthengine-legacy/thumbnails/9fbbebd2e0900847e5f932c691c12bf1-193becd10387b315a28c860352d78e55:getPixels\n",
      "Please wait ...\n",
      "Data downloaded to D:\\DOCS\\PATIA\\IMGENES\\VHI_LS\\1_2_LE07_009058_20120619.tif\n",
      "\n",
      "\n",
      "Exporting 44/85: 1_2_LE07_009058_20120806.tif\n",
      "Generating URL ...\n",
      "Downloading data from https://earthengine.googleapis.com/v1alpha/projects/earthengine-legacy/thumbnails/3858671fe20ea851613b1a5b29b6a3b5-5e4e8febc6684a12065dca77ec26be48:getPixels\n",
      "Please wait ...\n",
      "Data downloaded to D:\\DOCS\\PATIA\\IMGENES\\VHI_LS\\1_2_LE07_009058_20120806.tif\n",
      "\n",
      "\n",
      "Exporting 45/85: 1_2_LE07_009059_20120111.tif\n",
      "Generating URL ...\n",
      "Downloading data from https://earthengine.googleapis.com/v1alpha/projects/earthengine-legacy/thumbnails/3050726f9edba15e7e349a38d5ff31ef-4fa0ee699e1e50978ebe789fa90865e0:getPixels\n",
      "Please wait ...\n",
      "Data downloaded to D:\\DOCS\\PATIA\\IMGENES\\VHI_LS\\1_2_LE07_009059_20120111.tif\n",
      "\n",
      "\n",
      "Exporting 46/85: 1_2_LE07_009060_20110820.tif\n",
      "Generating URL ...\n",
      "Downloading data from https://earthengine.googleapis.com/v1alpha/projects/earthengine-legacy/thumbnails/51a521686157ce6e743c2cc5bf7827fc-802a396a31c05a99b2d6ff90d7f9dd24:getPixels\n",
      "Please wait ...\n",
      "Data downloaded to D:\\DOCS\\PATIA\\IMGENES\\VHI_LS\\1_2_LE07_009060_20110820.tif\n",
      "\n",
      "\n",
      "Exporting 47/85: 1_2_LE07_009060_20120907.tif\n",
      "Generating URL ...\n",
      "Downloading data from https://earthengine.googleapis.com/v1alpha/projects/earthengine-legacy/thumbnails/398035f6d5b52a70c55600c2a94cd8f0-ff8cc1954c8b47a8d3df84f8527f5223:getPixels\n",
      "Please wait ...\n",
      "Data downloaded to D:\\DOCS\\PATIA\\IMGENES\\VHI_LS\\1_2_LE07_009060_20120907.tif\n",
      "\n",
      "\n",
      "Exporting 48/85: 1_2_LE07_009060_20121110.tif\n",
      "Generating URL ...\n",
      "Downloading data from https://earthengine.googleapis.com/v1alpha/projects/earthengine-legacy/thumbnails/ac18d61197cca2bb6c7e7e3536675c04-d971daa0d77aae4108f1274a04417fe5:getPixels\n",
      "Please wait ...\n",
      "Data downloaded to D:\\DOCS\\PATIA\\IMGENES\\VHI_LS\\1_2_LE07_009060_20121110.tif\n",
      "\n",
      "\n",
      "Exporting 49/85: 1_2_LE07_009060_20130606.tif\n",
      "Generating URL ...\n",
      "Downloading data from https://earthengine.googleapis.com/v1alpha/projects/earthengine-legacy/thumbnails/3426255cc228eb57cb2bb244fbf5b860-6bfc85a273d41258242a71eb7ac1fa30:getPixels\n",
      "Please wait ...\n"
     ]
    },
    {
     "name": "stdout",
     "output_type": "stream",
     "text": [
      "Data downloaded to D:\\DOCS\\PATIA\\IMGENES\\VHI_LS\\1_2_LE07_009060_20130606.tif\n",
      "\n",
      "\n",
      "Exporting 50/85: 1_2_LE07_010058_20110928.tif\n",
      "Generating URL ...\n",
      "Downloading data from https://earthengine.googleapis.com/v1alpha/projects/earthengine-legacy/thumbnails/b677212f077893a8e3ee802e1f821447-378a5ac836f1958bf71e73dbf00de850:getPixels\n",
      "Please wait ...\n",
      "Data downloaded to D:\\DOCS\\PATIA\\IMGENES\\VHI_LS\\1_2_LE07_010058_20110928.tif\n",
      "\n",
      "\n",
      "Exporting 51/85: 1_2_LE07_010059_20110115.tif\n",
      "Generating URL ...\n",
      "Downloading data from https://earthengine.googleapis.com/v1alpha/projects/earthengine-legacy/thumbnails/83142ab16708d95d318580d495ef8b5e-0a0fa18e4eb586bbb8de5aab45f2dd19:getPixels\n",
      "Please wait ...\n",
      "Data downloaded to D:\\DOCS\\PATIA\\IMGENES\\VHI_LS\\1_2_LE07_010059_20110115.tif\n",
      "\n",
      "\n",
      "Exporting 52/85: 1_2_LE07_010059_20121117.tif\n",
      "Generating URL ...\n",
      "Downloading data from https://earthengine.googleapis.com/v1alpha/projects/earthengine-legacy/thumbnails/83eb8a2a07ca349c9029a6fd97ad4ddd-70f2081202e6874935051ec90ab63da6:getPixels\n",
      "Please wait ...\n",
      "Data downloaded to D:\\DOCS\\PATIA\\IMGENES\\VHI_LS\\1_2_LE07_010059_20121117.tif\n",
      "\n",
      "\n",
      "Exporting 53/85: 1_2_LE07_010060_20130426.tif\n",
      "Generating URL ...\n",
      "Downloading data from https://earthengine.googleapis.com/v1alpha/projects/earthengine-legacy/thumbnails/d477eeb694242759ec3b5f3ee9f664b0-59fe37136f719ca062b10caa949b8bc6:getPixels\n",
      "Please wait ...\n",
      "Data downloaded to D:\\DOCS\\PATIA\\IMGENES\\VHI_LS\\1_2_LE07_010060_20130426.tif\n",
      "\n",
      "\n",
      "Exporting 54/85: 2_LC08_009058_20190327.tif\n",
      "Generating URL ...\n",
      "Downloading data from https://earthengine.googleapis.com/v1alpha/projects/earthengine-legacy/thumbnails/8a916385c0f106886da063e8e40f3c6d-fd8251a3cc5734480a967bcb28bc73e2:getPixels\n",
      "Please wait ...\n",
      "Data downloaded to D:\\DOCS\\PATIA\\IMGENES\\VHI_LS\\2_LC08_009058_20190327.tif\n",
      "\n",
      "\n",
      "Exporting 55/85: 2_LC08_009058_20190818.tif\n",
      "Generating URL ...\n",
      "Downloading data from https://earthengine.googleapis.com/v1alpha/projects/earthengine-legacy/thumbnails/aca4d160081f6b7197731edc8e74d479-ffc065ec8bae4dfcef4d9b56fa13366f:getPixels\n",
      "Please wait ...\n",
      "Data downloaded to D:\\DOCS\\PATIA\\IMGENES\\VHI_LS\\2_LC08_009058_20190818.tif\n",
      "\n",
      "\n",
      "Exporting 56/85: 2_LC08_009058_20190903.tif\n",
      "Generating URL ...\n",
      "Downloading data from https://earthengine.googleapis.com/v1alpha/projects/earthengine-legacy/thumbnails/a689cd15a5aabd21250145d7246eaa41-d86f220986418ec6a188c90c0c596a88:getPixels\n",
      "Please wait ...\n",
      "Data downloaded to D:\\DOCS\\PATIA\\IMGENES\\VHI_LS\\2_LC08_009058_20190903.tif\n",
      "\n",
      "\n",
      "Exporting 57/85: 2_LC08_009059_20140124.tif\n",
      "Generating URL ...\n",
      "Downloading data from https://earthengine.googleapis.com/v1alpha/projects/earthengine-legacy/thumbnails/86fc3e75846eb25c045a50a04079a371-0a501e4e9645e922b7849a8cd78f21fa:getPixels\n",
      "Please wait ...\n",
      "Data downloaded to D:\\DOCS\\PATIA\\IMGENES\\VHI_LS\\2_LC08_009059_20140124.tif\n",
      "\n",
      "\n",
      "Exporting 58/85: 2_LC08_009059_20220927.tif\n",
      "Generating URL ...\n",
      "Downloading data from https://earthengine.googleapis.com/v1alpha/projects/earthengine-legacy/thumbnails/50b152364f5253db1a2bdee44421c823-6e8b6a1a2e38f8fa1ca18b24bffe7caf:getPixels\n",
      "Please wait ...\n",
      "Data downloaded to D:\\DOCS\\PATIA\\IMGENES\\VHI_LS\\2_LC08_009059_20220927.tif\n",
      "\n",
      "\n",
      "Exporting 59/85: 2_LC08_009060_20150503.tif\n",
      "Generating URL ...\n",
      "Downloading data from https://earthengine.googleapis.com/v1alpha/projects/earthengine-legacy/thumbnails/a093e916f1712bf86b9ab64975b08d81-ce12b8d0a4bdb4506d3b0715cbbcb379:getPixels\n",
      "Please wait ...\n",
      "Data downloaded to D:\\DOCS\\PATIA\\IMGENES\\VHI_LS\\2_LC08_009060_20150503.tif\n",
      "\n",
      "\n",
      "Exporting 60/85: 2_LC08_009060_20150908.tif\n",
      "Generating URL ...\n",
      "Downloading data from https://earthengine.googleapis.com/v1alpha/projects/earthengine-legacy/thumbnails/21b65cbf9d2f482ee660ce2ebe8b829e-8841be6077f32b50b4d67973a169c343:getPixels\n",
      "Please wait ...\n",
      "Data downloaded to D:\\DOCS\\PATIA\\IMGENES\\VHI_LS\\2_LC08_009060_20150908.tif\n",
      "\n",
      "\n",
      "Exporting 61/85: 2_LC08_009060_20181018.tif\n",
      "Generating URL ...\n",
      "Downloading data from https://earthengine.googleapis.com/v1alpha/projects/earthengine-legacy/thumbnails/f849ad8d47e3b71cd596fd7487456ec7-0eef3defa01a87e81ed97ff78bbb27a2:getPixels\n",
      "Please wait ...\n",
      "Data downloaded to D:\\DOCS\\PATIA\\IMGENES\\VHI_LS\\2_LC08_009060_20181018.tif\n",
      "\n",
      "\n",
      "Exporting 62/85: 2_LC08_009060_20190818.tif\n",
      "Generating URL ...\n",
      "Downloading data from https://earthengine.googleapis.com/v1alpha/projects/earthengine-legacy/thumbnails/7f71eeb8b25aed565e0b6a019f096947-36162880e38eb375c3ae7678b43f6ab5:getPixels\n",
      "Please wait ...\n",
      "Data downloaded to D:\\DOCS\\PATIA\\IMGENES\\VHI_LS\\2_LC08_009060_20190818.tif\n",
      "\n",
      "\n",
      "Exporting 63/85: 2_LC08_009060_20200313.tif\n",
      "Generating URL ...\n",
      "Downloading data from https://earthengine.googleapis.com/v1alpha/projects/earthengine-legacy/thumbnails/47286fef6e1b883c03d28b8af8ce5b17-db4ec562c401fd67537e3e1bdbcc4a97:getPixels\n",
      "Please wait ...\n",
      "Data downloaded to D:\\DOCS\\PATIA\\IMGENES\\VHI_LS\\2_LC08_009060_20200313.tif\n",
      "\n",
      "\n",
      "Exporting 64/85: 2_LC08_009060_20200414.tif\n",
      "Generating URL ...\n",
      "Downloading data from https://earthengine.googleapis.com/v1alpha/projects/earthengine-legacy/thumbnails/afd346676c44992a817638431c7e7d43-ed54a407ad04a134f92f6e9aedb130a4:getPixels\n",
      "Please wait ...\n",
      "Data downloaded to D:\\DOCS\\PATIA\\IMGENES\\VHI_LS\\2_LC08_009060_20200414.tif\n",
      "\n",
      "\n",
      "Exporting 65/85: 2_LC08_009060_20201210.tif\n",
      "Generating URL ...\n",
      "Downloading data from https://earthengine.googleapis.com/v1alpha/projects/earthengine-legacy/thumbnails/ce3742232f23340d4694da01392f6da5-4fcfc42487cc06c0e1ace392e003d7ed:getPixels\n",
      "Please wait ...\n",
      "Data downloaded to D:\\DOCS\\PATIA\\IMGENES\\VHI_LS\\2_LC08_009060_20201210.tif\n",
      "\n",
      "\n",
      "Exporting 66/85: 2_LC08_009060_20211127.tif\n",
      "Generating URL ...\n",
      "Downloading data from https://earthengine.googleapis.com/v1alpha/projects/earthengine-legacy/thumbnails/d2478c0de8144fab0359a308171bd704-21840da757be212436686c79a01bfcdf:getPixels\n",
      "Please wait ...\n",
      "Data downloaded to D:\\DOCS\\PATIA\\IMGENES\\VHI_LS\\2_LC08_009060_20211127.tif\n",
      "\n",
      "\n",
      "Exporting 67/85: 2_LC08_009060_20220927.tif\n",
      "Generating URL ...\n",
      "Downloading data from https://earthengine.googleapis.com/v1alpha/projects/earthengine-legacy/thumbnails/81e09dd6bcffcfb42cb0e217d6397416-eb2d28302d31f8de7a6b6642bc4cbc3c:getPixels\n",
      "Please wait ...\n",
      "Data downloaded to D:\\DOCS\\PATIA\\IMGENES\\VHI_LS\\2_LC08_009060_20220927.tif\n",
      "\n",
      "\n",
      "Exporting 68/85: 2_LC08_009060_20221013.tif\n",
      "Generating URL ...\n",
      "Downloading data from https://earthengine.googleapis.com/v1alpha/projects/earthengine-legacy/thumbnails/4dbf8ce781706a2e293ccc8bb4acddf4-1a3982aa32e4d48a39dec7b5812b61f3:getPixels\n",
      "Please wait ...\n",
      "Data downloaded to D:\\DOCS\\PATIA\\IMGENES\\VHI_LS\\2_LC08_009060_20221013.tif\n",
      "\n",
      "\n",
      "Exporting 69/85: 2_LC08_009060_20221130.tif\n",
      "Generating URL ...\n",
      "Downloading data from https://earthengine.googleapis.com/v1alpha/projects/earthengine-legacy/thumbnails/d8a34d18d27a2d94c4e35d3e9e621418-3372bddb5c3ff53b6966e63f1cef98a9:getPixels\n",
      "Please wait ...\n",
      "Data downloaded to D:\\DOCS\\PATIA\\IMGENES\\VHI_LS\\2_LC08_009060_20221130.tif\n",
      "\n",
      "\n",
      "Exporting 70/85: 2_LC08_010058_20150323.tif\n",
      "Generating URL ...\n",
      "Downloading data from https://earthengine.googleapis.com/v1alpha/projects/earthengine-legacy/thumbnails/e6076f028a08eb34fc8e95932fae38ba-aaecdf911c50eedf9ddefe7feb070274:getPixels\n",
      "Please wait ...\n",
      "Data downloaded to D:\\DOCS\\PATIA\\IMGENES\\VHI_LS\\2_LC08_010058_20150323.tif\n",
      "\n",
      "\n",
      "Exporting 71/85: 2_LC08_010058_20150611.tif\n",
      "Generating URL ...\n",
      "Downloading data from https://earthengine.googleapis.com/v1alpha/projects/earthengine-legacy/thumbnails/1b4b515eadb0e0b3ea48646a42de4d65-0c31c140c1149e098afb7da9f5832cec:getPixels\n",
      "Please wait ...\n",
      "Data downloaded to D:\\DOCS\\PATIA\\IMGENES\\VHI_LS\\2_LC08_010058_20150611.tif\n",
      "\n",
      "\n",
      "Exporting 72/85: 2_LC08_010058_20160512.tif\n",
      "Generating URL ...\n",
      "Downloading data from https://earthengine.googleapis.com/v1alpha/projects/earthengine-legacy/thumbnails/33363397b2397919861533a8da4fdf9c-7029533699c4b8d6c5c9b4280a4d117c:getPixels\n",
      "Please wait ...\n",
      "Data downloaded to D:\\DOCS\\PATIA\\IMGENES\\VHI_LS\\2_LC08_010058_20160512.tif\n",
      "\n",
      "\n",
      "Exporting 73/85: 2_LC08_010058_20161120.tif\n",
      "Generating URL ...\n",
      "Downloading data from https://earthengine.googleapis.com/v1alpha/projects/earthengine-legacy/thumbnails/f46a88d58c078b452330cdd414ddf88a-93d75356f1c29e497ba7aaa0e7ea2b18:getPixels\n",
      "Please wait ...\n",
      "Data downloaded to D:\\DOCS\\PATIA\\IMGENES\\VHI_LS\\2_LC08_010058_20161120.tif\n",
      "\n",
      "\n",
      "Exporting 74/85: 2_LC08_010058_20170123.tif\n",
      "Generating URL ...\n"
     ]
    },
    {
     "name": "stdout",
     "output_type": "stream",
     "text": [
      "Downloading data from https://earthengine.googleapis.com/v1alpha/projects/earthengine-legacy/thumbnails/8706c74d55a0e15be10a6ffdc6cf2a3e-09cb963bc38261e4de6a8a2f265720d1:getPixels\n",
      "Please wait ...\n",
      "Data downloaded to D:\\DOCS\\PATIA\\IMGENES\\VHI_LS\\2_LC08_010058_20170123.tif\n",
      "\n",
      "\n",
      "Exporting 75/85: 2_LC08_010058_20170224.tif\n",
      "Generating URL ...\n",
      "Downloading data from https://earthengine.googleapis.com/v1alpha/projects/earthengine-legacy/thumbnails/bb5f2ab209128c44169ff99f49d814a2-8a70457f7d7fa46f3a4e4c6d4abb744b:getPixels\n",
      "Please wait ...\n",
      "Data downloaded to D:\\DOCS\\PATIA\\IMGENES\\VHI_LS\\2_LC08_010058_20170224.tif\n",
      "\n",
      "\n",
      "Exporting 76/85: 2_LC08_010058_20181228.tif\n",
      "Generating URL ...\n",
      "Downloading data from https://earthengine.googleapis.com/v1alpha/projects/earthengine-legacy/thumbnails/a371c4f9a2975b7a0651f2c302930ca4-cfcea9fe9bb312ede785a1885c8e1ae7:getPixels\n",
      "Please wait ...\n",
      "Data downloaded to D:\\DOCS\\PATIA\\IMGENES\\VHI_LS\\2_LC08_010058_20181228.tif\n",
      "\n",
      "\n",
      "Exporting 77/85: 2_LC08_010058_20210323.tif\n",
      "Generating URL ...\n",
      "Downloading data from https://earthengine.googleapis.com/v1alpha/projects/earthengine-legacy/thumbnails/15d7f275cb590d7d86ca9d5cb0a8496d-de16e3d5fd2477af1a0f996ce31e24f1:getPixels\n",
      "Please wait ...\n",
      "Data downloaded to D:\\DOCS\\PATIA\\IMGENES\\VHI_LS\\2_LC08_010058_20210323.tif\n",
      "\n",
      "\n",
      "Exporting 78/85: 2_LC08_010058_20210424.tif\n",
      "Generating URL ...\n",
      "Downloading data from https://earthengine.googleapis.com/v1alpha/projects/earthengine-legacy/thumbnails/80f392a34f02f4037cdcb4b77d875851-893775cbb25288d2166c503b8d682399:getPixels\n",
      "Please wait ...\n",
      "Data downloaded to D:\\DOCS\\PATIA\\IMGENES\\VHI_LS\\2_LC08_010058_20210424.tif\n",
      "\n",
      "\n",
      "Exporting 79/85: 2_LC08_010058_20210915.tif\n",
      "Generating URL ...\n",
      "Downloading data from https://earthengine.googleapis.com/v1alpha/projects/earthengine-legacy/thumbnails/91c9802af5ba341af6ae0c122a84f6c7-347a2a467e8f528d213c4a145025514c:getPixels\n",
      "Please wait ...\n",
      "Data downloaded to D:\\DOCS\\PATIA\\IMGENES\\VHI_LS\\2_LC08_010058_20210915.tif\n",
      "\n",
      "\n",
      "Exporting 80/85: 2_LC08_010058_20220513.tif\n",
      "Generating URL ...\n",
      "Downloading data from https://earthengine.googleapis.com/v1alpha/projects/earthengine-legacy/thumbnails/b6eb4e2ea5de5a97b6a67e400060e60d-a8f6e3a69f8bf500aa14526a8c4e1927:getPixels\n",
      "Please wait ...\n",
      "Data downloaded to D:\\DOCS\\PATIA\\IMGENES\\VHI_LS\\2_LC08_010058_20220513.tif\n",
      "\n",
      "\n",
      "Exporting 81/85: 2_LC08_010059_20150611.tif\n",
      "Generating URL ...\n",
      "Downloading data from https://earthengine.googleapis.com/v1alpha/projects/earthengine-legacy/thumbnails/6af6092b28b207b545919f96e68aa5cc-75c3d7f9aa4a2daa4ee1ac84f2808244:getPixels\n",
      "Please wait ...\n",
      "Data downloaded to D:\\DOCS\\PATIA\\IMGENES\\VHI_LS\\2_LC08_010059_20150611.tif\n",
      "\n",
      "\n",
      "Exporting 82/85: 2_LC08_010059_20160206.tif\n",
      "Generating URL ...\n",
      "Downloading data from https://earthengine.googleapis.com/v1alpha/projects/earthengine-legacy/thumbnails/0bb00409765420b141ca467db2c8a6b6-fb7cf9d2ecc1c4158c820a1226e4eae0:getPixels\n",
      "Please wait ...\n",
      "Data downloaded to D:\\DOCS\\PATIA\\IMGENES\\VHI_LS\\2_LC08_010059_20160206.tif\n",
      "\n",
      "\n",
      "Exporting 83/85: 2_LC08_010059_20161120.tif\n",
      "Generating URL ...\n",
      "Downloading data from https://earthengine.googleapis.com/v1alpha/projects/earthengine-legacy/thumbnails/d373adfb28fc970b08fc769a7dbdd071-4a59fe1b2f571b950c6a45f9ae09dee2:getPixels\n",
      "Please wait ...\n",
      "Data downloaded to D:\\DOCS\\PATIA\\IMGENES\\VHI_LS\\2_LC08_010059_20161120.tif\n",
      "\n",
      "\n",
      "Exporting 84/85: 2_LC08_010059_20170123.tif\n",
      "Generating URL ...\n",
      "Downloading data from https://earthengine.googleapis.com/v1alpha/projects/earthengine-legacy/thumbnails/0cdf2922be176b3f672fb7a7c41b68f4-6154721c0d560c67706c5c9ac79b0ffa:getPixels\n",
      "Please wait ...\n",
      "Data downloaded to D:\\DOCS\\PATIA\\IMGENES\\VHI_LS\\2_LC08_010059_20170123.tif\n",
      "\n",
      "\n",
      "Exporting 85/85: 2_LC08_010060_20161120.tif\n",
      "Generating URL ...\n",
      "Downloading data from https://earthengine.googleapis.com/v1alpha/projects/earthengine-legacy/thumbnails/30cbc382146159198b1985ed176450ab-c74754eac2fa7c3285a9a64dcbe840a4:getPixels\n",
      "Please wait ...\n",
      "Data downloaded to D:\\DOCS\\PATIA\\IMGENES\\VHI_LS\\2_LC08_010060_20161120.tif\n",
      "\n",
      "\n"
     ]
    }
   ],
   "source": [
    "VHIcol = geemap.ee_export_image_collection(VHIscalado.select(\"VHI\"), 'D:/DOCS/PATIA/IMGENES/VHI_LS',scale=500, region=Geometria)"
   ]
  },
  {
   "cell_type": "code",
   "execution_count": null,
   "id": "cb1a33b6",
   "metadata": {},
   "outputs": [],
   "source": []
  }
 ],
 "metadata": {
  "kernelspec": {
   "display_name": "Python 3 (ipykernel)",
   "language": "python",
   "name": "python3"
  },
  "language_info": {
   "codemirror_mode": {
    "name": "ipython",
    "version": 3
   },
   "file_extension": ".py",
   "mimetype": "text/x-python",
   "name": "python",
   "nbconvert_exporter": "python",
   "pygments_lexer": "ipython3",
   "version": "3.9.12"
  }
 },
 "nbformat": 4,
 "nbformat_minor": 5
}
