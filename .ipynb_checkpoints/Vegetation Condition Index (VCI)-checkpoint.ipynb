{
 "cells": [
  {
   "cell_type": "code",
   "execution_count": 1,
   "id": "7291327e",
   "metadata": {},
   "outputs": [],
   "source": [
    "#Librerías\n",
    "import ee #earthengine\n",
    "import geemap #Alternativa a GEE paquete\n",
    "import matplotlib.pyplot as plt #Generación de gráficos\n",
    "import pandas as pd\n",
    "import numpy as np\n",
    "import os"
   ]
  },
  {
   "cell_type": "code",
   "execution_count": 2,
   "id": "fabb44a6",
   "metadata": {},
   "outputs": [],
   "source": [
    "ee.Initialize()"
   ]
  },
  {
   "cell_type": "code",
   "execution_count": 3,
   "id": "3aaa3feb",
   "metadata": {},
   "outputs": [],
   "source": [
    "Map = geemap.Map()"
   ]
  },
  {
   "cell_type": "code",
   "execution_count": 4,
   "id": "da8fdee1",
   "metadata": {},
   "outputs": [
    {
     "data": {
      "application/vnd.jupyter.widget-view+json": {
       "model_id": "7d7a8333ba714871b170eef19bb2a1bf",
       "version_major": 2,
       "version_minor": 0
      },
      "text/plain": [
       "Map(center=[20, 0], controls=(WidgetControl(options=['position', 'transparent_bg'], widget=HBox(children=(Togg…"
      ]
     },
     "metadata": {},
     "output_type": "display_data"
    }
   ],
   "source": [
    "Map"
   ]
  },
  {
   "cell_type": "code",
   "execution_count": 5,
   "id": "a9a09cf6",
   "metadata": {},
   "outputs": [],
   "source": [
    "AOI = 'D:/DOCS/PATIA/Sph.AltoPatia/AltoPatia.shp'"
   ]
  },
  {
   "cell_type": "code",
   "execution_count": 6,
   "id": "681815a4",
   "metadata": {},
   "outputs": [],
   "source": [
    "AOI = geemap.shp_to_ee(AOI)"
   ]
  },
  {
   "cell_type": "code",
   "execution_count": 7,
   "id": "3aa196b0",
   "metadata": {},
   "outputs": [],
   "source": [
    "Map.addLayer(AOI, {}, 'AOI')"
   ]
  },
  {
   "cell_type": "markdown",
   "id": "4abfefca",
   "metadata": {},
   "source": [
    "# **Vegetation Condition Index (VCI)**"
   ]
  },
  {
   "cell_type": "markdown",
   "id": "ca8e6d09",
   "metadata": {},
   "source": [
    "<p>The <a href = \"https://un-spider.org/advisory-support/recommended-practices/recommended-practice-agriculture-drought-monitoring/step-by-step\">VCI</a> is an indicator of the status of vegetation cover as a function of NDVI minima and maxima encountered for a given ecosystem over many years. It is a better indicator of water stress condition than the NDVI. The deviation of the vegetation condition is an indicator of the intensity of the impact of drought on vegetation growth. The VCI is calculated using the following formula: </p><br>"
   ]
  },
  {
   "cell_type": "markdown",
   "id": "3bed28f9",
   "metadata": {},
   "source": [
    "$ VCI_{j} = { \\frac{NDVI_{j} - NDVI_{min}} {NDVI_{max} - NDVI_{min}} } $"
   ]
  },
  {
   "cell_type": "markdown",
   "id": "c8ddb2cf",
   "metadata": {},
   "source": [
    "<p>$NDVI_{max}$ and $NDVI_{min}$ are the maximum and minimum $NDVI$ values in a multi-year dataset. The ‘$j$’ is the $NDVI$ value for the current month. </p>"
   ]
  },
  {
   "cell_type": "markdown",
   "id": "d9ff97a8",
   "metadata": {},
   "source": [
    "# **<p style=\"background-color:Tomato;\">INGRESO DE DATOS</p>**"
   ]
  },
  {
   "cell_type": "code",
   "execution_count": 8,
   "id": "626771eb",
   "metadata": {},
   "outputs": [],
   "source": [
    "fechaI = \"2001-01-01\" # yyyy-mm-dd --> Ingresar fecha inicial\n",
    "fechaF = \"2021-12-31\" # yyyy-mm-dd --> Ingresar fecha final"
   ]
  },
  {
   "cell_type": "code",
   "execution_count": 9,
   "id": "a0cae0b1",
   "metadata": {},
   "outputs": [
    {
     "data": {
      "text/plain": [
       "<ee.ee_list.List at 0x2a479e87280>"
      ]
     },
     "execution_count": 9,
     "metadata": {},
     "output_type": "execute_result"
    }
   ],
   "source": [
    "Anios = ee.List.sequence(2001, 2021) # A partir de la fecha registrada en la celda anterior \n",
    "                              # incluir el rango de años correspondiente --> Año inicial, Año final + 1\n",
    "Anios"
   ]
  },
  {
   "cell_type": "code",
   "execution_count": 10,
   "id": "d4ebae1d",
   "metadata": {},
   "outputs": [
    {
     "data": {
      "text/plain": [
       "<ee.ee_list.List at 0x2a479e87550>"
      ]
     },
     "execution_count": 10,
     "metadata": {},
     "output_type": "execute_result"
    }
   ],
   "source": [
    "Meses = ee.List.sequence(1,12)\n",
    "Meses"
   ]
  },
  {
   "cell_type": "code",
   "execution_count": 11,
   "id": "4989fb04",
   "metadata": {},
   "outputs": [],
   "source": [
    "MOD13Q1_006 = ee.ImageCollection('MODIS/006/MOD13Q1').filterBounds(AOI).filterDate(fechaI,fechaF)"
   ]
  },
  {
   "cell_type": "markdown",
   "id": "2f88e7de",
   "metadata": {},
   "source": [
    "# **<p style=\"background-color:Tomato;\">PROCESAMIENTO DE DATOS</p>**"
   ]
  },
  {
   "cell_type": "code",
   "execution_count": 12,
   "id": "77a1e5ca",
   "metadata": {},
   "outputs": [],
   "source": [
    "# Valor mínimo y máximo de NDVIs\n",
    "minNDVI = MOD13Q1_006.select('NDVI').min()\n",
    "maxNDVI = MOD13Q1_006.select('NDVI').max()"
   ]
  },
  {
   "cell_type": "code",
   "execution_count": 13,
   "id": "7cd38281",
   "metadata": {},
   "outputs": [],
   "source": [
    "Lw = ee.List([])\n",
    "for i in range(2001,2022):\n",
    "    for j in range(1,13):\n",
    "        w = MOD13Q1_006.select('NDVI').filter(ee.Filter.calendarRange(ee.Number(i), ee.Number(i), 'year')).filter(ee.Filter.calendarRange(ee.Number(j), ee.Number(j), 'month')).mean()\n",
    "        w = w.set('year', i)\n",
    "        w = w.set('month', j)\n",
    "        w = w.set('system:time_start', ee.Date.fromYMD(i, j, 1))\n",
    "        Lw = Lw.add(ee.Image(w))\n",
    "NDVIj = ee.ImageCollection.fromImages(Lw)"
   ]
  },
  {
   "cell_type": "code",
   "execution_count": 14,
   "id": "aa2b3a6d",
   "metadata": {},
   "outputs": [],
   "source": [
    "def VCIf(imgCol):\n",
    "    VCI = (imgCol.subtract(minNDVI)).divide(maxNDVI.subtract(minNDVI)).clip(AOI)\n",
    "    return VCI"
   ]
  },
  {
   "cell_type": "code",
   "execution_count": 15,
   "id": "6b9baeda",
   "metadata": {},
   "outputs": [],
   "source": [
    "VCI = NDVIj.map(VCIf)"
   ]
  },
  {
   "cell_type": "code",
   "execution_count": 16,
   "id": "1baf7ec2",
   "metadata": {},
   "outputs": [],
   "source": [
    "vis =  ['d7191c', 'fdae61', 'ffffc0', 'a6d96a', '1a9641']\n",
    "visParams = {'min': -1, 'max': 1, 'palette': vis}\n",
    "Map.addLayer(VCI, visParams, 'VCI')"
   ]
  },
  {
   "cell_type": "code",
   "execution_count": 17,
   "id": "f38eaaf3",
   "metadata": {},
   "outputs": [],
   "source": [
    "#Criterios de clasificacion\n",
    "def ClasificarImgC(ImgCol):\n",
    "    image02 = ee.Image(ImgCol.lt(0.1).And(ImgCol.gte(-1)))\n",
    "    image04 = ee.Image(((ImgCol.gte(0.1)).And(ImgCol.lt(0.2))).multiply(2))\n",
    "    image06 = ((ImgCol.gte(0.2)).And(ImgCol.lt(0.3))).multiply(3)\n",
    "    image08 = ((ImgCol.gte(0.3)).And(ImgCol.lt(0.4))).multiply(4)\n",
    "    image10 = (ImgCol.gte(0.4)).multiply(5)\n",
    "    Drought_Index = (image02.add(image04).add(image06).add(image08).add(image10))\n",
    "    Drought_Index = Drought_Index.float()\n",
    "    return Drought_Index"
   ]
  },
  {
   "cell_type": "code",
   "execution_count": 18,
   "id": "1e51b5d5",
   "metadata": {},
   "outputs": [],
   "source": [
    "IndiceSequia = VCI.map(ClasificarImgC)"
   ]
  },
  {
   "cell_type": "code",
   "execution_count": 19,
   "id": "8237101e",
   "metadata": {},
   "outputs": [],
   "source": [
    "vis2 =  ['d7191c', 'fdae61', 'ffffc0', 'a6d96a', '1a9641'] #Extreme (rojo),Severe (anaranjado), Moderate (amarillo), Mild (verde claro) and No Drought (verde oscuro)\n",
    "visParams2 = {'min': 1, 'max': 5, 'palette': vis2}\n",
    "Map.addLayer(IndiceSequia, visParams2 , 'IndiceSequia')"
   ]
  },
  {
   "cell_type": "code",
   "execution_count": 22,
   "id": "11103997",
   "metadata": {},
   "outputs": [],
   "source": [
    "#Map.add_time_slider(IndiceSequia, visParams2, labels=bands, time_interval=1)"
   ]
  },
  {
   "cell_type": "code",
   "execution_count": null,
   "id": "742d6464",
   "metadata": {},
   "outputs": [],
   "source": [
    "# Indices de sequía\n",
    "\n",
    "# 'Extreme' = 1\n",
    "# 'Severe' = 2\n",
    "# 'Moderate' = 3\n",
    "# 'Mild' = 4\n",
    "# 'No Drought' = 5"
   ]
  }
 ],
 "metadata": {
  "kernelspec": {
   "display_name": "Python 3 (ipykernel)",
   "language": "python",
   "name": "python3"
  },
  "language_info": {
   "codemirror_mode": {
    "name": "ipython",
    "version": 3
   },
   "file_extension": ".py",
   "mimetype": "text/x-python",
   "name": "python",
   "nbconvert_exporter": "python",
   "pygments_lexer": "ipython3",
   "version": "3.9.12"
  }
 },
 "nbformat": 4,
 "nbformat_minor": 5
}
