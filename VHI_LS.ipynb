{
 "cells": [
  {
   "cell_type": "code",
   "execution_count": 1,
   "id": "b60b22a0",
   "metadata": {},
   "outputs": [],
   "source": [
    "#Librerías\n",
    "import ee #earthengine\n",
    "import geemap #Alternativa a GEE paquete\n",
    "import matplotlib.pyplot as plt #Generación de gráficos\n",
    "import pandas as pd\n",
    "import numpy as np\n",
    "import os"
   ]
  },
  {
   "cell_type": "code",
   "execution_count": 2,
   "id": "36bf4085",
   "metadata": {},
   "outputs": [],
   "source": [
    "#ee.Authenticate()"
   ]
  },
  {
   "cell_type": "code",
   "execution_count": 3,
   "id": "4ec915d9",
   "metadata": {},
   "outputs": [],
   "source": [
    "ee.Initialize()"
   ]
  },
  {
   "cell_type": "code",
   "execution_count": 4,
   "id": "154734d2",
   "metadata": {},
   "outputs": [],
   "source": [
    "Map = geemap.Map()"
   ]
  },
  {
   "cell_type": "code",
   "execution_count": 5,
   "id": "28b990bc",
   "metadata": {},
   "outputs": [],
   "source": [
    "AOI = '/home/labambiental/Desktop/sequiA/Insumos/Sph.AltoPatia/AltoPatia.shp'"
   ]
  },
  {
   "cell_type": "code",
   "execution_count": 6,
   "id": "0984eafa",
   "metadata": {},
   "outputs": [],
   "source": [
    "AOI = geemap.shp_to_ee(AOI)"
   ]
  },
  {
   "cell_type": "code",
   "execution_count": 8,
   "id": "38e7106d",
   "metadata": {},
   "outputs": [],
   "source": [
    "Map.center_object(AOI, 12)"
   ]
  },
  {
   "cell_type": "code",
   "execution_count": 9,
   "id": "8aa03b66",
   "metadata": {},
   "outputs": [
    {
     "data": {
      "application/vnd.jupyter.widget-view+json": {
       "model_id": "9afda20319234f9996df7c061996d368",
       "version_major": 2,
       "version_minor": 0
      },
      "text/plain": [
       "Map(center=[1.5930218187425416, -77.20824274207031], controls=(WidgetControl(options=['position', 'transparent…"
      ]
     },
     "metadata": {},
     "output_type": "display_data"
    }
   ],
   "source": [
    "Map"
   ]
  },
  {
   "cell_type": "code",
   "execution_count": 10,
   "id": "b26a0099",
   "metadata": {},
   "outputs": [],
   "source": [
    "LS4 = ee.ImageCollection(\"LANDSAT/LT04/C02/T1_L2\") #Landsat 4"
   ]
  },
  {
   "cell_type": "code",
   "execution_count": 11,
   "id": "51cb5701",
   "metadata": {},
   "outputs": [],
   "source": [
    "LS5 = ee.ImageCollection(\"LANDSAT/LT05/C02/T1_L2\") #Landsat 5"
   ]
  },
  {
   "cell_type": "code",
   "execution_count": 12,
   "id": "f1669455",
   "metadata": {},
   "outputs": [],
   "source": [
    "LS7 = ee.ImageCollection(\"LANDSAT/LE07/C02/T1_L2\") #Landsat 7"
   ]
  },
  {
   "cell_type": "code",
   "execution_count": 13,
   "id": "806f2dec",
   "metadata": {},
   "outputs": [],
   "source": [
    "S8 = ee.ImageCollection(\"LANDSAT/LC08/C02/T1_L2\") #Landsat 8"
   ]
  },
  {
   "cell_type": "code",
   "execution_count": 14,
   "id": "692f890f",
   "metadata": {},
   "outputs": [],
   "source": [
    "# Enmascarar Nubes"
   ]
  },
  {
   "cell_type": "code",
   "execution_count": 15,
   "id": "0a612eb0",
   "metadata": {},
   "outputs": [
    {
     "ename": "SyntaxError",
     "evalue": "invalid syntax (4221707888.py, line 5)",
     "output_type": "error",
     "traceback": [
      "\u001b[0;36m  File \u001b[0;32m\"/tmp/ipykernel_9640/4221707888.py\"\u001b[0;36m, line \u001b[0;32m5\u001b[0m\n\u001b[0;31m    mask = qa.bitwiseAnd(cloudShadowBitMask).eq(0).and(qa.bitwiseAnd(cloudsBitMask).eq(0))\u001b[0m\n\u001b[0m                                                   ^\u001b[0m\n\u001b[0;31mSyntaxError\u001b[0m\u001b[0;31m:\u001b[0m invalid syntax\n"
     ]
    }
   ],
   "source": [
    "def maskL457sr(img): #Enmascara nubes de LS 4,5 y 7\n",
    "    cloudShadowBitMask = (1 << 3)\n",
    "    cloudsBitMask = (1 << 4)\n",
    "    qa = col.select('QA_PIXEL')\n",
    "    mask = qa.bitwiseAnd(cloudShadowBitMask).eq(0).and(qa.bitwiseAnd(cloudsBitMask).eq(0))\n",
    "    return col.updateMask(mask)"
   ]
  },
  {
   "cell_type": "code",
   "execution_count": null,
   "id": "8036170b",
   "metadata": {},
   "outputs": [],
   "source": []
  }
 ],
 "metadata": {
  "kernelspec": {
   "display_name": "Python 3 (ipykernel)",
   "language": "python",
   "name": "python3"
  },
  "language_info": {
   "codemirror_mode": {
    "name": "ipython",
    "version": 3
   },
   "file_extension": ".py",
   "mimetype": "text/x-python",
   "name": "python",
   "nbconvert_exporter": "python",
   "pygments_lexer": "ipython3",
   "version": "3.9.13"
  }
 },
 "nbformat": 4,
 "nbformat_minor": 5
}
