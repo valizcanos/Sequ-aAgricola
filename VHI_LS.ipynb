{
 "cells": [
  {
   "cell_type": "code",
   "execution_count": 1,
   "id": "b60b22a0",
   "metadata": {},
   "outputs": [],
   "source": [
    "#Librerías\n",
    "import ee #earthengine\n",
    "import geemap #Alternativa a GEE paquete\n",
    "import matplotlib.pyplot as plt #Generación de gráficos\n",
    "import pandas as pd\n",
    "import numpy as np\n",
    "import os"
   ]
  },
  {
   "cell_type": "code",
   "execution_count": 2,
   "id": "7bab8b1d",
   "metadata": {},
   "outputs": [],
   "source": [
    "# install git+https://github.com/cordmaur/GEES2Downloader.git@main\n",
    "\n",
    "#from geeS2downloader import GEES2Downloader"
   ]
  },
  {
   "cell_type": "code",
   "execution_count": 3,
   "id": "36bf4085",
   "metadata": {},
   "outputs": [],
   "source": [
    "#ee.Authenticate()"
   ]
  },
  {
   "cell_type": "code",
   "execution_count": 4,
   "id": "4ec915d9",
   "metadata": {},
   "outputs": [],
   "source": [
    "ee.Initialize()"
   ]
  },
  {
   "cell_type": "code",
   "execution_count": 5,
   "id": "154734d2",
   "metadata": {},
   "outputs": [],
   "source": [
    "Map = geemap.Map()"
   ]
  },
  {
   "cell_type": "code",
   "execution_count": 6,
   "id": "28b990bc",
   "metadata": {},
   "outputs": [],
   "source": [
    "AOI ='D:/DOCS/PATIA/Sph.AltoPatia/AltoPatia.shp'"
   ]
  },
  {
   "cell_type": "code",
   "execution_count": 7,
   "id": "0984eafa",
   "metadata": {},
   "outputs": [],
   "source": [
    "AOI = geemap.shp_to_ee(AOI)"
   ]
  },
  {
   "cell_type": "code",
   "execution_count": 8,
   "id": "38e7106d",
   "metadata": {},
   "outputs": [],
   "source": [
    "Map.center_object(AOI, 12)\n",
    "#Map.set_center(AOI, 12)"
   ]
  },
  {
   "cell_type": "code",
   "execution_count": 9,
   "id": "8aa03b66",
   "metadata": {
    "scrolled": true
   },
   "outputs": [
    {
     "data": {
      "application/vnd.jupyter.widget-view+json": {
       "model_id": "ae714ae7a0fc4723ac41853dd26122e7",
       "version_major": 2,
       "version_minor": 0
      },
      "text/plain": [
       "Map(center=[1.5930218187425416, -77.20824274207031], controls=(WidgetControl(options=['position', 'transparent…"
      ]
     },
     "metadata": {},
     "output_type": "display_data"
    }
   ],
   "source": [
    "Map"
   ]
  },
  {
   "cell_type": "code",
   "execution_count": 10,
   "id": "b26a0099",
   "metadata": {},
   "outputs": [],
   "source": [
    "LS4 = ee.ImageCollection(\"LANDSAT/LT04/C02/T1_L2\") #Landsat 4"
   ]
  },
  {
   "cell_type": "code",
   "execution_count": 11,
   "id": "51cb5701",
   "metadata": {},
   "outputs": [],
   "source": [
    "LS5 = ee.ImageCollection(\"LANDSAT/LT05/C02/T1_L2\") #Landsat 5"
   ]
  },
  {
   "cell_type": "code",
   "execution_count": 12,
   "id": "f1669455",
   "metadata": {},
   "outputs": [],
   "source": [
    "LS7 = ee.ImageCollection(\"LANDSAT/LE07/C02/T1_L2\") #Landsat 7"
   ]
  },
  {
   "cell_type": "code",
   "execution_count": 13,
   "id": "806f2dec",
   "metadata": {},
   "outputs": [],
   "source": [
    "LS8 = ee.ImageCollection(\"LANDSAT/LC08/C02/T1_L2\") #Landsat 8"
   ]
  },
  {
   "cell_type": "code",
   "execution_count": 14,
   "id": "4eaa0eaf",
   "metadata": {},
   "outputs": [],
   "source": [
    "MODIS = ee.ImageCollection(\"MODIS/061/MOD13A1\")"
   ]
  },
  {
   "cell_type": "code",
   "execution_count": 15,
   "id": "dfbd4675",
   "metadata": {},
   "outputs": [],
   "source": [
    "DEM = ee.Image(\"CGIAR/SRTM90_V4\") #90M"
   ]
  },
  {
   "cell_type": "code",
   "execution_count": 16,
   "id": "692f890f",
   "metadata": {},
   "outputs": [],
   "source": [
    "# Enmascarar Nubes"
   ]
  },
  {
   "cell_type": "code",
   "execution_count": 17,
   "id": "0a612eb0",
   "metadata": {},
   "outputs": [],
   "source": [
    "def maskL457sr(img): #Enmascara nubes de LS 4,5 y 7\n",
    "    cloudShadowBitMask = (1 << 3)\n",
    "    cloudsBitMask = (1 << 4)\n",
    "    qa = img.select('QA_PIXEL')\n",
    "    mask = qa.bitwiseAnd(cloudShadowBitMask).eq(0).And(qa.bitwiseAnd(cloudsBitMask).eq(0))\n",
    "    return img.updateMask(mask)"
   ]
  },
  {
   "cell_type": "code",
   "execution_count": 18,
   "id": "8036170b",
   "metadata": {},
   "outputs": [],
   "source": [
    "def maskL8sr(img):\n",
    "    cloudShadowBitMask = (1 << 3)\n",
    "    cloudsBitMask = (1 << 4)\n",
    "    qa = img.select('QA_PIXEL')\n",
    "    mask = qa.bitwiseAnd(cloudShadowBitMask).eq(0).And(qa.bitwiseAnd(cloudsBitMask).eq(0))\n",
    "    return img.updateMask(mask)"
   ]
  },
  {
   "cell_type": "code",
   "execution_count": 19,
   "id": "d5a975ab",
   "metadata": {},
   "outputs": [],
   "source": [
    "#Filtrar imagenes"
   ]
  },
  {
   "cell_type": "code",
   "execution_count": 20,
   "id": "44e62025",
   "metadata": {},
   "outputs": [],
   "source": [
    "LS5 = LS5.filterDate('1985-01-01', '2010-12-31').filterBounds(AOI).filter(ee.Filter.lt('CLOUD_COVER', 30)).map(maskL457sr)"
   ]
  },
  {
   "cell_type": "code",
   "execution_count": 21,
   "id": "8d8e282f",
   "metadata": {},
   "outputs": [],
   "source": [
    "LS7 = LS7.filterDate('2011-01-01', '2013-12-31').filterBounds(AOI).filter(ee.Filter.lt('CLOUD_COVER', 30)).map(maskL457sr)"
   ]
  },
  {
   "cell_type": "code",
   "execution_count": 22,
   "id": "e2e3329a",
   "metadata": {},
   "outputs": [],
   "source": [
    "LS8 = LS8.filterDate('2014-01-01', '2022-12-31').filterBounds(AOI).filter(ee.Filter.lt('CLOUD_COVER', 30)).map(maskL8sr)"
   ]
  },
  {
   "cell_type": "code",
   "execution_count": 23,
   "id": "dc1bd7d1",
   "metadata": {},
   "outputs": [],
   "source": [
    "# FRACTION OF VEGETATION COVER (FVC)"
   ]
  },
  {
   "cell_type": "code",
   "execution_count": 24,
   "id": "b90d5c93",
   "metadata": {},
   "outputs": [],
   "source": [
    "def toNDVI457(img):\n",
    "    ndvi = img.expression('((NIR - RED) / (NIR + RED))',\n",
    "    {'NIR': img.select('SR_B4'),\n",
    "    'RED': img.select('SR_B3')}).rename('NDVI').copyProperties(img, ['system:time_start'])\n",
    "    return img.addBands(ndvi)"
   ]
  },
  {
   "cell_type": "code",
   "execution_count": 25,
   "id": "290d8439",
   "metadata": {},
   "outputs": [],
   "source": [
    "def toNDVI8(img):\n",
    "    ndvi = img.expression('((NIR - RED) / (NIR + RED))',\n",
    "    {'NIR': img.select('SR_B5'),\n",
    "    'RED': img.select('SR_B4')}).rename('NDVI').copyProperties(img, ['system:time_start'])\n",
    "    return img.addBands(ndvi)"
   ]
  },
  {
   "cell_type": "code",
   "execution_count": 26,
   "id": "815998ad",
   "metadata": {},
   "outputs": [],
   "source": [
    "ndvi5 = LS5.map(toNDVI457)"
   ]
  },
  {
   "cell_type": "code",
   "execution_count": 27,
   "id": "c8b45064",
   "metadata": {},
   "outputs": [],
   "source": [
    "ndvi7 = LS7.map(toNDVI457)"
   ]
  },
  {
   "cell_type": "code",
   "execution_count": 28,
   "id": "c3b04d34",
   "metadata": {},
   "outputs": [],
   "source": [
    "ndvi8 = LS8.map(toNDVI8)"
   ]
  },
  {
   "cell_type": "code",
   "execution_count": 29,
   "id": "aa9f7da3",
   "metadata": {},
   "outputs": [],
   "source": [
    "def FVC4578(img):\n",
    "    min = ee.Number(img.select(\"NDVI\").reduceRegion(**{\n",
    "        'reducer': ee.Reducer.min(),\n",
    "        'geometry': AOI,\n",
    "        'scale': 30,\n",
    "        'maxPixels': 1e9\n",
    "    }).values().get(0))\n",
    "    \n",
    "    max = ee.Number(img.select(\"NDVI\").reduceRegion(**{\n",
    "        'reducer': ee.Reducer.max(),\n",
    "        'geometry': AOI,\n",
    "        'scale': 30,\n",
    "        'maxPixels': 1e9\n",
    "    }).values().get(0))\n",
    "    \n",
    "    fv =(img.select(\"NDVI\").subtract(min).divide(max.subtract(min))).pow(ee.Number(2)).rename('FV').copyProperties(img, ['system:time_start'])\n",
    "    \n",
    "    return img.addBands(fv)"
   ]
  },
  {
   "cell_type": "code",
   "execution_count": 30,
   "id": "93ae9de2",
   "metadata": {},
   "outputs": [],
   "source": [
    "fvc5 = ndvi5.map(FVC4578)"
   ]
  },
  {
   "cell_type": "code",
   "execution_count": 31,
   "id": "8c367364",
   "metadata": {},
   "outputs": [],
   "source": [
    "fvc7 = ndvi7.map(FVC4578)"
   ]
  },
  {
   "cell_type": "code",
   "execution_count": 32,
   "id": "3e21b22a",
   "metadata": {},
   "outputs": [],
   "source": [
    "fvc8 = ndvi8.map(FVC4578)"
   ]
  },
  {
   "cell_type": "code",
   "execution_count": 33,
   "id": "b3c3edfd",
   "metadata": {},
   "outputs": [],
   "source": [
    "# Surface Emissivity"
   ]
  },
  {
   "cell_type": "code",
   "execution_count": 34,
   "id": "a896e5d8",
   "metadata": {},
   "outputs": [],
   "source": [
    "a= ee.Number(0.004)"
   ]
  },
  {
   "cell_type": "code",
   "execution_count": 35,
   "id": "7d7ae7db",
   "metadata": {},
   "outputs": [],
   "source": [
    "b= ee.Number(0.986)"
   ]
  },
  {
   "cell_type": "code",
   "execution_count": 36,
   "id": "7b3ee9d1",
   "metadata": {},
   "outputs": [],
   "source": [
    "def em(img):\n",
    "    EM= img.select('FV').multiply(a).add(b).rename('EMM').copyProperties(img, ['system:time_start'])\n",
    "    return img.addBands(EM)"
   ]
  },
  {
   "cell_type": "code",
   "execution_count": 37,
   "id": "c06b5d29",
   "metadata": {},
   "outputs": [],
   "source": [
    "em5 = fvc5.map(em)"
   ]
  },
  {
   "cell_type": "code",
   "execution_count": 38,
   "id": "ca00d01f",
   "metadata": {},
   "outputs": [],
   "source": [
    "em7 = fvc7.map(em)"
   ]
  },
  {
   "cell_type": "code",
   "execution_count": 39,
   "id": "ccd2524b",
   "metadata": {},
   "outputs": [],
   "source": [
    "em8 = fvc8.map(em)"
   ]
  },
  {
   "cell_type": "code",
   "execution_count": 40,
   "id": "8270f8b7",
   "metadata": {},
   "outputs": [],
   "source": [
    "#LST"
   ]
  },
  {
   "cell_type": "code",
   "execution_count": 41,
   "id": "2c4e7862",
   "metadata": {},
   "outputs": [],
   "source": [
    "def Tband4(img):\n",
    "    ter = img.expression(\n",
    "    '(1284.30/(log((671.62/lambda)+1)))-273.15',{\n",
    "        'lambda':img.select('ST_B6').multiply(0.00341802)\n",
    "    }).rename('ETemp').copyProperties(img, ['system:time_start'])\n",
    "    return img.addBands(ter)"
   ]
  },
  {
   "cell_type": "code",
   "execution_count": 42,
   "id": "8928d882",
   "metadata": {},
   "outputs": [],
   "source": [
    "def Tband5(img):\n",
    "    ter = img.select('ST_B6').multiply(0.00341802).add(149).subtract(273.15)\n",
    "    return ter.copyProperties(img, ['system:time_start'])"
   ]
  },
  {
   "cell_type": "code",
   "execution_count": 43,
   "id": "5880a85a",
   "metadata": {},
   "outputs": [],
   "source": [
    "def Tband7(img):\n",
    "    ter = img.select('ST_B6').multiply(0.00341802).add(149).subtract(273.15)\n",
    "    return ter.copyProperties(img, ['system:time_start'])"
   ]
  },
  {
   "cell_type": "code",
   "execution_count": 44,
   "id": "d39d4ce0",
   "metadata": {},
   "outputs": [],
   "source": [
    "def Tband8(img):\n",
    "    ter = img.select('ST_B10').multiply(0.00341802).add(149).subtract(273.15)\n",
    "    return ter.copyProperties(img, ['system:time_start'])"
   ]
  },
  {
   "cell_type": "code",
   "execution_count": 45,
   "id": "1522e768",
   "metadata": {},
   "outputs": [],
   "source": [
    "thermal5= LS5.map(Tband5)"
   ]
  },
  {
   "cell_type": "code",
   "execution_count": 46,
   "id": "18b72184",
   "metadata": {},
   "outputs": [],
   "source": [
    "thermal7= LS7.map(Tband7)"
   ]
  },
  {
   "cell_type": "code",
   "execution_count": 47,
   "id": "88f9dfba",
   "metadata": {},
   "outputs": [],
   "source": [
    "thermal8= LS8.map(Tband8)"
   ]
  },
  {
   "cell_type": "code",
   "execution_count": 48,
   "id": "f584aef6",
   "metadata": {},
   "outputs": [],
   "source": [
    "def LST457(img):\n",
    "    lst = img.expression(\n",
    "    '(Tb/(1 + (0.00115* (Tb / 1.438))*log(Ep)))-273.15',{\n",
    "        'Tb': img.select('ST_B6').multiply(0.00341802).add(149),\n",
    "        'Ep': img.select('EMM')\n",
    "    }).rename('LST').copyProperties(img, ['system:time_start'])\n",
    "    return img.addBands(lst)"
   ]
  },
  {
   "cell_type": "code",
   "execution_count": 49,
   "id": "1ca8909b",
   "metadata": {},
   "outputs": [],
   "source": [
    "def LST8(img):\n",
    "    lst = img.expression(\n",
    "    '(Tb/(1 + (0.00115* (Tb / 1.438))*log(Ep)))-273.15',{\n",
    "        'Tb': img.select('ST_B10').multiply(0.00341802).add(149),\n",
    "        'Ep': img.select('EMM')\n",
    "    }).rename('LST').copyProperties(img, ['system:time_start'])\n",
    "    return img.addBands(lst)"
   ]
  },
  {
   "cell_type": "code",
   "execution_count": 50,
   "id": "72714e6b",
   "metadata": {},
   "outputs": [],
   "source": [
    "lst5 = em5.map(LST457)"
   ]
  },
  {
   "cell_type": "code",
   "execution_count": 51,
   "id": "595d188f",
   "metadata": {},
   "outputs": [],
   "source": [
    "lst7 = em7.map(LST457)"
   ]
  },
  {
   "cell_type": "code",
   "execution_count": 52,
   "id": "2a8e50d7",
   "metadata": {},
   "outputs": [],
   "source": [
    "lst8 = em8.map(LST8)"
   ]
  },
  {
   "cell_type": "code",
   "execution_count": 53,
   "id": "0dcb3e0a",
   "metadata": {},
   "outputs": [],
   "source": [
    "#MERGE THE COLLECTIONS"
   ]
  },
  {
   "cell_type": "code",
   "execution_count": 54,
   "id": "927fefed",
   "metadata": {},
   "outputs": [],
   "source": [
    "LST = lst5.merge(lst7).merge(lst8)"
   ]
  },
  {
   "cell_type": "code",
   "execution_count": 55,
   "id": "61b834b7",
   "metadata": {},
   "outputs": [],
   "source": [
    "# VHI"
   ]
  },
  {
   "cell_type": "code",
   "execution_count": 56,
   "id": "8990f352",
   "metadata": {},
   "outputs": [],
   "source": [
    "def tci(img):\n",
    "    min = ee.Number(img.select(\"LST\").reduceRegion(**{\n",
    "        'reducer': ee.Reducer.min(),\n",
    "        'geometry': AOI,\n",
    "        'scale': 30,\n",
    "        'maxPixels': 1e9\n",
    "    }).values().get(0))\n",
    "    \n",
    "    max = ee.Number(img.select(\"LST\").reduceRegion(**{\n",
    "        'reducer': ee.Reducer.max(),\n",
    "        'geometry': AOI,\n",
    "        'scale': 30,\n",
    "        'maxPixels': 1e9\n",
    "    }).values().get(0))\n",
    "    \n",
    "    TCI =(((img.select(\"LST\").multiply(-1).add(max)).divide(max.subtract(min))).multiply(100)).rename('TCI').copyProperties(img, ['system:time_start'])\n",
    "    \n",
    "    return img.addBands(TCI)"
   ]
  },
  {
   "cell_type": "code",
   "execution_count": 57,
   "id": "be73ec9a",
   "metadata": {},
   "outputs": [],
   "source": [
    "def vci(img):\n",
    "    min = ee.Number(img.select(\"NDVI\").reduceRegion(**{\n",
    "        'reducer': ee.Reducer.min(),\n",
    "        'geometry': AOI,\n",
    "        'scale': 30,\n",
    "        'maxPixels': 1e9\n",
    "    }).values().get(0))\n",
    "    \n",
    "    max = ee.Number(img.select(\"NDVI\").reduceRegion(**{\n",
    "        'reducer': ee.Reducer.max(),\n",
    "        'geometry': AOI,\n",
    "        'scale': 30,\n",
    "        'maxPixels': 1e9\n",
    "    }).values().get(0))\n",
    "    \n",
    "    VCI =(img.select(\"NDVI\").subtract(min).divide(max.subtract(min))).multiply(100).rename('VCI').copyProperties(img, ['system:time_start'])\n",
    "    \n",
    "    return img.addBands(VCI)"
   ]
  },
  {
   "cell_type": "code",
   "execution_count": 58,
   "id": "a7386465",
   "metadata": {},
   "outputs": [],
   "source": [
    "def vhi(img):\n",
    "    VHI = (img.select(\"VCI\").multiply(0.5)).add(img.select(\"TCI\").multiply(0.5)).rename('VHI').copyProperties(img, ['system:time_start'])\n",
    "    return img.addBands(VHI)"
   ]
  },
  {
   "cell_type": "code",
   "execution_count": 59,
   "id": "26902149",
   "metadata": {},
   "outputs": [],
   "source": [
    "TCI = LST.map(tci)"
   ]
  },
  {
   "cell_type": "code",
   "execution_count": 60,
   "id": "a4fb5143",
   "metadata": {},
   "outputs": [],
   "source": [
    "VCI = TCI.map(vci)"
   ]
  },
  {
   "cell_type": "code",
   "execution_count": 61,
   "id": "3b74fc73",
   "metadata": {},
   "outputs": [],
   "source": [
    "VHI = VCI.map(vhi)"
   ]
  },
  {
   "cell_type": "code",
   "execution_count": 62,
   "id": "f24f8f0d",
   "metadata": {},
   "outputs": [],
   "source": [
    "VisVHImean = {\"opacity\":1,\"bands\":[\"VHI\"],\"min\":29.756766392470833,\"max\":64.89604894746634,\"palette\":[\"bb0eff\",\"7024ff\",\"18a8ff\",\"26ffbb\",\"26ff4c\",\"b1ff20\",\"faff24\",\"ffcf16\",\"ff491e\"]}"
   ]
  },
  {
   "cell_type": "code",
   "execution_count": 63,
   "id": "a1ef7369",
   "metadata": {},
   "outputs": [],
   "source": [
    "Geometria = ee.Geometry.Rectangle([-77.9612271805933119,0.6744206529957637, -76.5544471458635485,2.5194416258749825])"
   ]
  },
  {
   "cell_type": "code",
   "execution_count": 64,
   "id": "b00737ff",
   "metadata": {},
   "outputs": [],
   "source": [
    "Map.addLayer(VHI.select(\"VHI\").mean().clip(Geometria),VisVHImean,\"VHI\")"
   ]
  },
  {
   "cell_type": "code",
   "execution_count": 65,
   "id": "234dbdb3",
   "metadata": {},
   "outputs": [],
   "source": [
    "#VHI.getInfo()"
   ]
  },
  {
   "cell_type": "code",
   "execution_count": 66,
   "id": "9cbca736",
   "metadata": {},
   "outputs": [],
   "source": [
    "#Escalar imagenes para reducir el numero de pixeles de descarga"
   ]
  },
  {
   "cell_type": "code",
   "execution_count": 67,
   "id": "e666b517",
   "metadata": {},
   "outputs": [],
   "source": [
    "def escalar(img):\n",
    "    Escalado = img.reduceResolution(**{\n",
    "        'reducer': ee.Reducer.max(),\n",
    "        'maxPixels': 1024\n",
    "    }).reproject(**{\n",
    "        'crs': MODIS.first().projection()\n",
    "    })\n",
    "    return Escalado"
   ]
  },
  {
   "cell_type": "code",
   "execution_count": 68,
   "id": "e67d6700",
   "metadata": {},
   "outputs": [],
   "source": [
    "DemScalado = DEM.select('elevation').reduceResolution(**{\n",
    "        'reducer': ee.Reducer.mean(),\n",
    "        'maxPixels': 1024\n",
    "    }).reproject(**{\n",
    "        'crs': MODIS.first().projection()\n",
    "    })"
   ]
  },
  {
   "cell_type": "code",
   "execution_count": 69,
   "id": "6dba1934",
   "metadata": {},
   "outputs": [],
   "source": [
    "VHIscalado = VHI.map(escalar)"
   ]
  },
  {
   "cell_type": "code",
   "execution_count": 70,
   "id": "1a03f7a6",
   "metadata": {},
   "outputs": [],
   "source": [
    "Map.addLayer(VHIscalado.select(\"VHI\").mean().clip(Geometria),VisVHImean,\"VHI escal\")"
   ]
  },
  {
   "cell_type": "code",
   "execution_count": 72,
   "id": "d36c1cc7",
   "metadata": {},
   "outputs": [
    {
     "data": {
      "text/html": [
       "<div><style>:root {\n",
       "  --font-color-primary: var(--jp-content-font-color0, rgba(0, 0, 0, 1));\n",
       "  --font-color-secondary: var(--jp-content-font-color2, rgba(0, 0, 0, 0.6));\n",
       "  --font-color-accent: rgba(123, 31, 162, 1);\n",
       "  --border-color: var(--jp-border-color2, #e0e0e0);\n",
       "  --background-color: var(--jp-layout-color0, white);\n",
       "  --background-color-row-even: var(--jp-layout-color1, white);\n",
       "  --background-color-row-odd: var(--jp-layout-color2, #eeeeee);\n",
       "}\n",
       "\n",
       "html[theme=\"dark\"],\n",
       "body[data-theme=\"dark\"],\n",
       "body.vscode-dark {\n",
       "  --font-color-primary: rgba(255, 255, 255, 1);\n",
       "  --font-color-secondary: rgba(255, 255, 255, 0.6);\n",
       "  --font-color-accent: rgb(173, 132, 190);\n",
       "  --border-color: #2e2e2e;\n",
       "  --background-color: #111111;\n",
       "  --background-color-row-even: #111111;\n",
       "  --background-color-row-odd: #313131;\n",
       "}\n",
       "\n",
       ".ee {\n",
       "  padding: 1em;\n",
       "  line-height: 1.5em;\n",
       "  min-width: 300px;\n",
       "  max-width: 1200px;\n",
       "  overflow-y: scroll;\n",
       "  max-height: 600px;\n",
       "  border: 1px solid var(--border-color);\n",
       "  font-family: monospace;\n",
       "}\n",
       "\n",
       ".ee li {\n",
       "  list-style-type: none;\n",
       "}\n",
       "\n",
       ".ee ul {\n",
       "  padding-left: 1.5em !important;\n",
       "  margin: 0;\n",
       "}\n",
       "\n",
       ".ee > ul {\n",
       "  padding-left: 0 !important;\n",
       "}\n",
       "\n",
       ".ee-open,\n",
       ".ee-shut {\n",
       "  color: var(--font-color-secondary);\n",
       "  cursor: pointer;\n",
       "  margin: 0;\n",
       "}\n",
       "\n",
       ".ee-open:hover,\n",
       ".ee-shut:hover {\n",
       "  color: var(--font-color-primary);\n",
       "}\n",
       "\n",
       ".ee-k {\n",
       "  color: var(--font-color-accent);\n",
       "  margin-right: 6px;\n",
       "}\n",
       "\n",
       ".ee-v {\n",
       "  color: var(--font-color-primary);\n",
       "}\n",
       "\n",
       ".ee-toggle {\n",
       "  display: none;\n",
       "}\n",
       "\n",
       ".ee-shut + ul {\n",
       "  display: none;\n",
       "}\n",
       "\n",
       ".ee-open + ul {\n",
       "  display: block;\n",
       "}\n",
       "\n",
       ".ee-shut::before {\n",
       "  display: inline-block;\n",
       "  content: \"▼\";\n",
       "  margin-right: 6px;\n",
       "  transform: rotate(-90deg);\n",
       "  transition: transform 0.2s;\n",
       "}\n",
       "\n",
       ".ee-open::before {\n",
       "  transform: rotate(0deg);\n",
       "  display: inline-block;\n",
       "  content: \"▼\";\n",
       "  margin-right: 6px;\n",
       "  transition: transform 0.2s;\n",
       "}\n",
       "</style><div class='ee'><ul><li><label class='ee-shut'>Projection<input type='checkbox' class='ee-toggle'></label><ul><li><span class='ee-k'>type:</span><span class='ee-v'>Projection</span></li><li><span class='ee-k'>crs:</span><span class='ee-v'>SR-ORG:6974</span></li><li><label class='ee-shut'>transform: List (6 elements)<input type='checkbox' class='ee-toggle'></label><ul><li><span class='ee-k'>0:</span><span class='ee-v'>463.3127165279165</span></li><li><span class='ee-k'>1:</span><span class='ee-v'>0</span></li><li><span class='ee-k'>2:</span><span class='ee-v'>-20015109.354</span></li><li><span class='ee-k'>3:</span><span class='ee-v'>0</span></li><li><span class='ee-k'>4:</span><span class='ee-v'>-463.3127165279167</span></li><li><span class='ee-k'>5:</span><span class='ee-v'>10007554.677003</span></li></ul></li></ul></li></ul></div><script>function toggleHeader() {\n",
       "    const parent = this.parentElement;\n",
       "    parent.className = parent.className === \"ee-open\" ? \"ee-shut\" : \"ee-open\";\n",
       "}\n",
       "\n",
       "for (let c of document.getElementsByClassName(\"ee-toggle\")) {\n",
       "    c.onclick = toggleHeader;\n",
       "}</script></div>"
      ],
      "text/plain": [
       "<ee.Projection at 0x2031b023d00>"
      ]
     },
     "execution_count": 72,
     "metadata": {},
     "output_type": "execute_result"
    }
   ],
   "source": [
    "VHIscalado.select(\"VHI\").first().projection()"
   ]
  },
  {
   "cell_type": "code",
   "execution_count": null,
   "id": "428656f6",
   "metadata": {},
   "outputs": [],
   "source": [
    "#VHI_expFirst = geemap.ee_export_image(VHIscalado.select(\"VHI\").mean(), 'D:/DOCS/PATIA/IMGENES/VHI_LS.tif',scale=500, region=Geometria)"
   ]
  },
  {
   "cell_type": "code",
   "execution_count": null,
   "id": "a8bc8bfa",
   "metadata": {},
   "outputs": [],
   "source": [
    "#DEM_expFirst = geemap.ee_export_image(DemScalado.select(\"elevation\"), 'D:/DOCS/PATIA/IMGENES/DEM.tif',scale=500, region=Geometria)"
   ]
  },
  {
   "cell_type": "code",
   "execution_count": null,
   "id": "d75f51e8",
   "metadata": {},
   "outputs": [],
   "source": [
    "#VHIcol = geemap.ee_export_image_collection(VHIscalado.select(\"VHI\"), 'D:/DOCS/PATIA/IMGENES/VHI_LS',scale=500, region=Geometria)"
   ]
  },
  {
   "cell_type": "code",
   "execution_count": null,
   "id": "cb1a33b6",
   "metadata": {},
   "outputs": [],
   "source": []
  }
 ],
 "metadata": {
  "kernelspec": {
   "display_name": "Python 3 (ipykernel)",
   "language": "python",
   "name": "python3"
  },
  "language_info": {
   "codemirror_mode": {
    "name": "ipython",
    "version": 3
   },
   "file_extension": ".py",
   "mimetype": "text/x-python",
   "name": "python",
   "nbconvert_exporter": "python",
   "pygments_lexer": "ipython3",
   "version": "3.9.12"
  }
 },
 "nbformat": 4,
 "nbformat_minor": 5
}
