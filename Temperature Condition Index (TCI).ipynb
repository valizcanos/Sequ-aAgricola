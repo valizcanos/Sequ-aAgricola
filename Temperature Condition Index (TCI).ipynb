{
 "cells": [
  {
   "cell_type": "code",
   "execution_count": 1,
   "id": "327f978c",
   "metadata": {},
   "outputs": [],
   "source": [
    "#Librerías\n",
    "import ee #earthengine\n",
    "import geemap #Alternativa a GEE paquete\n",
    "import matplotlib.pyplot as plt #Generación de gráficos\n",
    "import pandas as pd\n",
    "import numpy as np\n",
    "import os"
   ]
  },
  {
   "cell_type": "code",
   "execution_count": 2,
   "id": "406b3468",
   "metadata": {},
   "outputs": [],
   "source": [
    "ee.Initialize()"
   ]
  },
  {
   "cell_type": "code",
   "execution_count": 3,
   "id": "20d90ec8",
   "metadata": {},
   "outputs": [],
   "source": [
    "Map = geemap.Map()"
   ]
  },
  {
   "cell_type": "code",
   "execution_count": 21,
   "id": "6a7ca0ab",
   "metadata": {
    "scrolled": true
   },
   "outputs": [
    {
     "data": {
      "application/vnd.jupyter.widget-view+json": {
       "model_id": "7861f8c2d9a24c7f806c9fd2d1005eeb",
       "version_major": 2,
       "version_minor": 0
      },
      "text/plain": [
       "Map(bottom=32744.20001220703, center=[1.778400830827573, -76.38576520736781], controls=(WidgetControl(options=…"
      ]
     },
     "metadata": {},
     "output_type": "display_data"
    }
   ],
   "source": [
    "Map"
   ]
  },
  {
   "cell_type": "code",
   "execution_count": 5,
   "id": "9c7dea5b",
   "metadata": {},
   "outputs": [],
   "source": [
    "AOI = 'D:/DOCS/PATIA/Sph.AltoPatia/AltoPatia.shp'"
   ]
  },
  {
   "cell_type": "code",
   "execution_count": 6,
   "id": "e40baa88",
   "metadata": {},
   "outputs": [],
   "source": [
    "AOI = geemap.shp_to_ee(AOI)"
   ]
  },
  {
   "cell_type": "code",
   "execution_count": 7,
   "id": "1bae2031",
   "metadata": {},
   "outputs": [],
   "source": [
    "Map.addLayer(AOI, {}, 'AOI')"
   ]
  },
  {
   "cell_type": "markdown",
   "id": "97bbda4c",
   "metadata": {},
   "source": [
    "# **Temperature Condition Index (TCI)**"
   ]
  },
  {
   "cell_type": "markdown",
   "id": "11c758a6",
   "metadata": {},
   "source": [
    "<p>Land surface temperature (LST) derived from thermal radiance bands is a good indicator of the energy balance of the Earth’s surface, because temperatures can rise quickly under water stress. The TCI is an initial indicator of water stress and drought. It is calculated using the following formula <a href=\"https://un-spider.org/advisory-support/recommended-practices/recommended-practice-agriculture-drought-monitoring/in-detail\"> (UN, 2017) </a>. </p><br>"
   ]
  },
  {
   "cell_type": "markdown",
   "id": "5a6e4697",
   "metadata": {},
   "source": [
    "$TCI_{j} = \\frac{(TCI_{j} - TCI_{min})} {(TCI_{max} - TCI_{min})} × 100$"
   ]
  },
  {
   "cell_type": "markdown",
   "id": "15e3e102",
   "metadata": {},
   "source": [
    "$TCI_{max}$ and $TCI_{min}$ are the maximum and minimum $TCI$ values in a multi-year dataset. The $j$ is the $TCI$ value for the current month."
   ]
  },
  {
   "cell_type": "markdown",
   "id": "10ca7653",
   "metadata": {},
   "source": [
    "# **<p style=\"background-color:Tomato;\">INGRESO DE DATOS</p>**"
   ]
  },
  {
   "cell_type": "code",
   "execution_count": 8,
   "id": "1ab57bdb",
   "metadata": {},
   "outputs": [],
   "source": [
    "fechaI = \"2001-01-01\" # yyyy-mm-dd --> Ingresar fecha inicial\n",
    "fechaF = \"2021-12-31\" # yyyy-mm-dd --> Ingresar fecha final"
   ]
  },
  {
   "cell_type": "code",
   "execution_count": 9,
   "id": "eabd98c4",
   "metadata": {},
   "outputs": [
    {
     "data": {
      "text/plain": [
       "<ee.ee_list.List at 0x267fb8c35b0>"
      ]
     },
     "execution_count": 9,
     "metadata": {},
     "output_type": "execute_result"
    }
   ],
   "source": [
    "Anios = ee.List.sequence(2001, 2021) # A partir de la fecha registrada en la celda anterior \n",
    "                              # incluir el rango de años correspondiente --> Año inicial, Año final + 1\n",
    "Anios"
   ]
  },
  {
   "cell_type": "code",
   "execution_count": 10,
   "id": "b783dfdb",
   "metadata": {},
   "outputs": [
    {
     "data": {
      "text/plain": [
       "<ee.ee_list.List at 0x267fb8c3b80>"
      ]
     },
     "execution_count": 10,
     "metadata": {},
     "output_type": "execute_result"
    }
   ],
   "source": [
    "Meses = ee.List.sequence(1,12)\n",
    "Meses"
   ]
  },
  {
   "cell_type": "code",
   "execution_count": 11,
   "id": "de854499",
   "metadata": {},
   "outputs": [],
   "source": [
    "MOD11A2_006 = ee.ImageCollection('MODIS/006/MOD11A2').filterBounds(AOI).filterDate(fechaI,fechaF)"
   ]
  },
  {
   "cell_type": "markdown",
   "id": "fb1e90e8",
   "metadata": {},
   "source": [
    "# **<p style=\"background-color:Tomato;\">PROCESAMIENTO DE DATOS</p>**"
   ]
  },
  {
   "cell_type": "code",
   "execution_count": 12,
   "id": "bd2018c6",
   "metadata": {},
   "outputs": [],
   "source": [
    "# Valor mínimo y máximo de temperaturas superficiales terrestres\n",
    "minLST = MOD11A2_006.select('LST_Day_1km').min()\n",
    "maxLST = MOD11A2_006.select('LST_Day_1km').max()"
   ]
  },
  {
   "cell_type": "code",
   "execution_count": 13,
   "id": "22d281a3",
   "metadata": {},
   "outputs": [],
   "source": [
    "Lw = ee.List([])\n",
    "for i in range(2001,2022):\n",
    "    for j in range(1,13):\n",
    "        w = MOD11A2_006.select('LST_Day_1km').filter(ee.Filter.calendarRange(ee.Number(i), ee.Number(i), 'year')).filter(ee.Filter.calendarRange(ee.Number(j), ee.Number(j), 'month')).mean()\n",
    "        w = w.set('year', i)\n",
    "        w = w.set('month', j)\n",
    "        w = w.set('system:time_start', ee.Date.fromYMD(i, j, 1))\n",
    "        Lw = Lw.add(ee.Image(w))\n",
    "w = ee.ImageCollection.fromImages(Lw)"
   ]
  },
  {
   "cell_type": "code",
   "execution_count": 14,
   "id": "8f0095df",
   "metadata": {},
   "outputs": [],
   "source": [
    "def TCIf(imgCol):\n",
    "    TCI = (imgCol.subtract(minLST)).divide(maxLST.subtract(minLST)).clip(AOI)\n",
    "    return TCI"
   ]
  },
  {
   "cell_type": "code",
   "execution_count": 15,
   "id": "6a1cee2d",
   "metadata": {},
   "outputs": [],
   "source": [
    "TCI = w.map(TCIf)"
   ]
  },
  {
   "cell_type": "code",
   "execution_count": 16,
   "id": "a55ec477",
   "metadata": {},
   "outputs": [],
   "source": [
    "vis =  ['d7191c', 'fdae61', 'ffffc0', 'a6d96a', '1a9641']\n",
    "visParams = {'min': -1, 'max': 1, 'palette': vis}\n",
    "Map.addLayer(TCI, visParams, 'TCI')"
   ]
  },
  {
   "cell_type": "code",
   "execution_count": 17,
   "id": "6119e756",
   "metadata": {},
   "outputs": [],
   "source": [
    "#Criterios de clasificacion\n",
    "def ClasificarImgC(ImgCol):\n",
    "    image02 = ee.Image(ImgCol.lt(0.1).And(ImgCol.gte(-1)))\n",
    "    image04 = ee.Image(((ImgCol.gte(0.1)).And(ImgCol.lt(0.2))).multiply(2))\n",
    "    image06 = ((ImgCol.gte(0.2)).And(ImgCol.lt(0.3))).multiply(3)\n",
    "    image08 = ((ImgCol.gte(0.3)).And(ImgCol.lt(0.4))).multiply(4)\n",
    "    image10 = (ImgCol.gte(0.4)).multiply(5)\n",
    "    Drought_Index = (image02.add(image04).add(image06).add(image08).add(image10))\n",
    "    Drought_Index = Drought_Index.float()\n",
    "    return Drought_Index"
   ]
  },
  {
   "cell_type": "code",
   "execution_count": 18,
   "id": "c2ded7ae",
   "metadata": {},
   "outputs": [],
   "source": [
    "IndiceSequia = TCI.map(ClasificarImgC)"
   ]
  },
  {
   "cell_type": "code",
   "execution_count": 19,
   "id": "54717ca9",
   "metadata": {},
   "outputs": [],
   "source": [
    "vis2 =  ['d7191c', 'fdae61', 'ffffc0', 'a6d96a', '1a9641'] #Extreme (rojo),Severe (anaranjado), Moderate (amarillo), Mild (verde claro) and No Drought (verde oscuro)\n",
    "visParams2 = {'min': 1, 'max': 5, 'palette': vis2}\n",
    "Map.addLayer(IndiceSequia, visParams2, 'IndiceSequia')"
   ]
  },
  {
   "cell_type": "code",
   "execution_count": 20,
   "id": "264b9539",
   "metadata": {},
   "outputs": [],
   "source": [
    "# Indices de sequía\n",
    "\n",
    "# 'Extreme' = 1\n",
    "# 'Severe' = 2\n",
    "# 'Moderate' = 3\n",
    "# 'Mild' = 4\n",
    "# 'No Drought' = 5"
   ]
  }
 ],
 "metadata": {
  "kernelspec": {
   "display_name": "Python 3 (ipykernel)",
   "language": "python",
   "name": "python3"
  },
  "language_info": {
   "codemirror_mode": {
    "name": "ipython",
    "version": 3
   },
   "file_extension": ".py",
   "mimetype": "text/x-python",
   "name": "python",
   "nbconvert_exporter": "python",
   "pygments_lexer": "ipython3",
   "version": "3.9.12"
  }
 },
 "nbformat": 4,
 "nbformat_minor": 5
}
